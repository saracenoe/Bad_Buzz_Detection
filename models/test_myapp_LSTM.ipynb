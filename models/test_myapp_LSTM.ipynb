{
 "cells": [
  {
   "cell_type": "code",
   "execution_count": 108,
   "id": "7a0c85a2-6300-4d8c-a699-b27b46fbf5da",
   "metadata": {},
   "outputs": [],
   "source": [
    "import streamlit as st\n",
    "import pandas as pd\n",
    "import pandas as pd\n",
    "#import  tweepy\n",
    "import string\n",
    "import numpy as np\n",
    "import matplotlib.pyplot as plt\n",
    "import nltk\n",
    "from nltk.corpus import stopwords\n",
    "from bs4 import BeautifulSoup\n",
    "import sys\n",
    "import re\n",
    "import streamlit as st\n",
    "#from nltk.sentiment.vader import SentimentIntensityAnalyzer\n",
    "import nltk\n",
    "from nltk import word_tokenize\n",
    "from nltk.tokenize import word_tokenize\n",
    "from nltk.corpus import stopwords\n",
    "from nltk.stem.snowball import SnowballStemmer\n",
    "from nltk.tokenize import TweetTokenizer\n",
    "import pickle\n",
    "from sklearn.feature_extraction.text import TfidfVectorizer\n",
    "from sklearn.feature_extraction.text import CountVectorizer\n",
    "# from keras.preprocessing.sequence import pad_sequences\n",
    "from tensorflow.keras.preprocessing.sequence import pad_sequences\n",
    "import keras\n",
    "from keras.preprocessing.text import Tokenizer\n",
    "import gensim.models.keyedvectors as word2vec\n",
    "import gc\n",
    "import tensorflow as tf\n",
    "\n",
    "\n",
    "# st.write(\"\"\"\n",
    "# # Predict Sentiment from Tweeters\n",
    "\n",
    "# An interactive Web app to perform Sentiment Analysis on Tweets, based on machine learning algorithm.\n",
    "\n",
    "# \"\"\")\n",
    "\n",
    "# #function that would clean the data\n",
    "# @st.cache\n",
    "def review_to_words(raw_text):\n",
    "    \"\"\"\n",
    "    Function to convert a raw review to a string of words\n",
    "    The input is a single string (a raw text), and \n",
    "    the output is a single string (a preprocessed text)\n",
    "    \"\"\"\n",
    "    # 1. Remove HTML\n",
    "    raw_text = BeautifulSoup(raw_text,features=\"html.parser\").get_text() \n",
    "    \n",
    "    # 2. Remove non-letters        \n",
    "    letters_only = re.sub(\"[^a-zA-Z]\", \" \", str(raw_text))\n",
    "    \n",
    "    # puncuation\n",
    "    text  = \"\".join([char for char in letters_only if char not in string.punctuation])\n",
    "    \n",
    "    # 3. Convert to lower case\n",
    "    words = text.lower().split() \n",
    "    \n",
    "    # 4. Tokens\n",
    "    # tokenizer_words = TweetTokenizer()\n",
    "    # tokens_sentences = [tokenizer_words.tokenize(t) for t in nltk.sent_tokenize(words)]\n",
    "    \n",
    "    # 5. Remove stop words\n",
    "    # In Python, searching a set is much faster than searching\n",
    "    # a list, so convert the stop words to a set\n",
    "    \n",
    "    stops = set(stopwords.words(\"english\")) \n",
    "    meaningful_words = [w for w in words if not w in stops]\n",
    "    \n",
    "    # 4. Tokens\n",
    "    # word_tokenize(meaningful_words, language='english')\n",
    "    \n",
    "    # 6. Join the words back into one string separatSed by space, \n",
    "    # and return the result.\n",
    "    return( \" \".join(meaningful_words))\n",
    "    \n",
    "def tokenize_and_stem(text):\n",
    "\n",
    "    tokens = [word for sent in nltk.sent_tokenize(text) for word in nltk.word_tokenize(sent)]\n",
    "\n",
    "    filtered_tokens = [token for token in tokens if re.search('[a-zA-Z]', token)]\n",
    "    \n",
    "    stemmer = SnowballStemmer(language='english')\n",
    "\n",
    "    stems = [stemmer.stem(t) for t in filtered_tokens if len(t) > 0]\n",
    "\n",
    "    return stems\n",
    "\n",
    "\n",
    "def last_processing (user_input):\n",
    "    list_sentences_train = user_input\n",
    "\n",
    "    max_features = 20000\n",
    "    tokenizer = Tokenizer(num_words=max_features)\n",
    "    tokenizer.fit_on_texts(list_sentences_train)\n",
    "    list_tokenized_train = tokenizer.texts_to_sequences(list_sentences_train)\n",
    "    \n",
    "    word_tokenizer = Tokenizer()\n",
    "    word_tokenizer.fit_on_texts(list_sentences_train)\n",
    "    word_index = tokenizer.word_index\n",
    "    vocab_size = len(tokenizer.word_index)  + 1\n",
    "    \n",
    "    longest_train = max(list_sentences_train, key=lambda sentence: len(user_input))\n",
    "    length_long_sentence = len(word_tokenize(longest_train))\n",
    "    padded_sentences = pad_sequences(word_tokenizer.texts_to_sequences(list_sentences_train), length_long_sentence, padding='post')\n",
    "\n",
    "    maxlen = 300\n",
    "    X_t = pad_sequences(list_tokenized_train, maxlen=maxlen)\n",
    "    \n",
    "    return X_t\n",
    "\n",
    "def lemmatize_text(meaningful_words):\n",
    "    lemmatizer = nltk.stem.WordNetLemmatizer()\n",
    "    # w_tokenizer = nltk.tokenize.WhitespaceTokenizer()\n",
    "    return lemmatizer.lemmatize(meaningful_words)\n",
    "\n",
    "# st.write('FOR DEMO')\n",
    "# user_input = st.text_input(\"Write any tweet to check its sentiment\",\"EXAMPLE : this is my pet project and i love it.\")\n",
    "user_input = \"I hate this proyect. Although I love shared it with you, we wasted a lot of time and energy\"\n",
    "user_input = str([user_input])\n",
    "\n",
    "#cleansing and NLP part\n",
    "user_input = review_to_words(user_input)\n",
    "user_input = lemmatize_text(user_input)\n",
    "\n",
    "user_input = [user_input]\n",
    "\n",
    "user_input = last_processing (user_input)\n",
    "\n",
    "#Load model\n",
    "path = 'C://Users//ezequ//proyectos//openclassrooms//Projet_7//streamlit//model.h5'\n",
    "loaded_model= tf.keras.models.load_model(path )\n",
    "\n",
    "# Prediction function\n",
    "def sentiment_analysis(user_input):\n",
    "        \n",
    "#     # changing the input_data to numpy array\n",
    "#     user_imput_as_numpy_array = np.asarray(user_input)\n",
    "    \n",
    "#     # reshape the array as we are predicting for one instance\n",
    "#     input_data_reshaped = user_imput_as_numpy_array.reshape(-1,1)\n",
    "    \n",
    "    \n",
    "    predictions = loaded_model.predict(user_input) \n",
    "    return predictions"
   ]
  },
  {
   "cell_type": "code",
   "execution_count": 109,
   "id": "fdbe2709-3be6-48cf-984f-e08928232011",
   "metadata": {
    "tags": []
   },
   "outputs": [
    {
     "name": "stdout",
     "output_type": "stream",
     "text": [
      "1/1 [==============================] - 1s 733ms/step\n"
     ]
    },
    {
     "data": {
      "text/plain": [
       "array([[0.16446485]], dtype=float32)"
      ]
     },
     "execution_count": 109,
     "metadata": {},
     "output_type": "execute_result"
    }
   ],
   "source": [
    "sentiment_analysis(user_input)"
   ]
  },
  {
   "cell_type": "code",
   "execution_count": 110,
   "id": "38ec14fc-0032-4e01-8537-522c88bc7e78",
   "metadata": {},
   "outputs": [
    {
     "name": "stdout",
     "output_type": "stream",
     "text": [
      "1/1 [==============================] - 0s 60ms/step\n"
     ]
    }
   ],
   "source": [
    "prediction = sentiment_analysis(user_input)"
   ]
  },
  {
   "cell_type": "code",
   "execution_count": 111,
   "id": "bde5b85d-5991-40f6-9f72-a3aa2a5c2c1e",
   "metadata": {
    "tags": []
   },
   "outputs": [
    {
     "data": {
      "text/plain": [
       "array([[0.16446485]], dtype=float32)"
      ]
     },
     "execution_count": 111,
     "metadata": {},
     "output_type": "execute_result"
    }
   ],
   "source": [
    "prediction"
   ]
  },
  {
   "cell_type": "code",
   "execution_count": 100,
   "id": "3594cac4-a430-4c1d-b5df-f291f062cf40",
   "metadata": {},
   "outputs": [
    {
     "data": {
      "text/plain": [
       "0.44964126"
      ]
     },
     "execution_count": 100,
     "metadata": {},
     "output_type": "execute_result"
    }
   ],
   "source": [
    "prediction[0][0]"
   ]
  },
  {
   "cell_type": "code",
   "execution_count": null,
   "id": "b50601ae-2eb4-407e-878f-92c13af8b9e9",
   "metadata": {},
   "outputs": [],
   "source": []
  }
 ],
 "metadata": {
  "kernelspec": {
   "display_name": "yelp",
   "language": "python",
   "name": "yelp"
  },
  "language_info": {
   "codemirror_mode": {
    "name": "ipython",
    "version": 3
   },
   "file_extension": ".py",
   "mimetype": "text/x-python",
   "name": "python",
   "nbconvert_exporter": "python",
   "pygments_lexer": "ipython3",
   "version": "3.9.10"
  }
 },
 "nbformat": 4,
 "nbformat_minor": 5
}
