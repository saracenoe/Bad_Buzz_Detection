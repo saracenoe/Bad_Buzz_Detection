{
 "cells": [
  {
   "cell_type": "markdown",
   "id": "bcf1472d-0b4c-487f-978a-f037063a5216",
   "metadata": {},
   "source": [
    "## Word embedding : FastText\n",
    "\n",
    "In this notebook, we will use the FastText model to compute Word Embedding on our tweets dataset, before training a classification model on the lower-dimension vector space.\n",
    "\n",
    "We will compare this pre-trained cloud model to the baseline model from 1_baseline.ipynb.\n",
    "\n",
    "### Load project modules and data\n",
    "\n",
    "We will use basic python packages, and the library package with 300 dimensions of FastText model."
   ]
  },
  {
   "cell_type": "code",
   "execution_count": 1,
   "id": "be8be611-190c-4d44-8995-3babe590ab4d",
   "metadata": {},
   "outputs": [
    {
     "name": "stderr",
     "output_type": "stream",
     "text": [
      "<frozen importlib._bootstrap>:228: RuntimeWarning: scipy._lib.messagestream.MessageStream size changed, may indicate binary incompatibility. Expected 56 from C header, got 64 from PyObject\n"
     ]
    },
    {
     "data": {
      "text/html": [
       "        <script type=\"text/javascript\">\n",
       "        window.PlotlyConfig = {MathJaxConfig: 'local'};\n",
       "        if (window.MathJax) {MathJax.Hub.Config({SVG: {font: \"STIX-Web\"}});}\n",
       "        if (typeof require !== 'undefined') {\n",
       "        require.undef(\"plotly\");\n",
       "        requirejs.config({\n",
       "            paths: {\n",
       "                'plotly': ['https://cdn.plot.ly/plotly-2.3.1.min']\n",
       "            }\n",
       "        });\n",
       "        require(['plotly'], function(Plotly) {\n",
       "            window._Plotly = Plotly;\n",
       "        });\n",
       "        }\n",
       "        </script>\n",
       "        "
      ]
     },
     "metadata": {},
     "output_type": "display_data"
    }
   ],
   "source": [
    "# Import custom helper libraries\n",
    "import os\n",
    "import sys\n",
    "import sys, os, re, csv, codecs\n",
    "import pickle\n",
    "\n",
    "# Maths modules\n",
    "import numpy as np\n",
    "import pandas as pd\n",
    "from numpy import exp\n",
    "from numpy.core.fromnumeric import repeat, shape  # noqa: F401,W0611\n",
    "from scipy.stats import f_oneway\n",
    "\n",
    "# Viz modules\n",
    "import plotly.express as px\n",
    "import plotly.graph_objects as go\n",
    "import plotly.io as pio\n",
    "import matplotlib.pyplot as plt\n",
    "%matplotlib inline\n",
    "\n",
    "# Render for export\n",
    "import plotly.io as pio\n",
    "pio.renderers.default = \"notebook\"\n",
    "# import plotly.plotly as py\n",
    "import plotly.graph_objs as go\n",
    "from plotly.offline import init_notebook_mode, iplot\n",
    "init_notebook_mode(connected=True)  \n",
    "import plotly.figure_factory as ff\n",
    "\n",
    "#Sklearn modules\n",
    "from sklearn import metrics\n",
    "from sklearn.metrics import (ConfusionMatrixDisplay,PrecisionRecallDisplay,RocCurveDisplay,)\n",
    "from sklearn.metrics import (confusion_matrix, roc_auc_score, average_precision_score, classification_report)\n",
    "from sklearn.metrics import (precision_score, recall_score, f1_score, accuracy_score)\n",
    "from sklearn.base import ClassifierMixin, is_classifier\n",
    "from sklearn.decomposition import PCA\n",
    "from sklearn.inspection import permutation_importance\n",
    "from sklearn.model_selection import train_test_split\n",
    "from sklearn.preprocessing import LabelEncoder\n",
    "\n",
    "# System modules\n",
    "import random\n",
    "import contractions\n",
    "import re\n",
    "import time\n",
    "from collections import Counter\n",
    "from collections import defaultdict\n",
    "from unidecode import unidecode\n",
    "import logging\n",
    "from typing import Callable, Dict, List, Optional, Tuple, Union\n",
    "import gc\n",
    "from random import shuffle\n",
    "import itertools\n",
    "\n",
    "# ML modules\n",
    "from tqdm import tqdm\n",
    "tqdm.pandas()\n",
    "\n",
    "# NLTK modules\n",
    "import nltk\n",
    "from nltk import word_tokenize\n",
    "from nltk.corpus import stopwords\n",
    "from nltk.stem.snowball import SnowballStemmer\n",
    "\n",
    "# Keras modules\n",
    "import keras\n",
    "from keras import initializers, regularizers, constraints, optimizers, layers\n",
    "from keras.preprocessing.text import Tokenizer\n",
    "from keras.preprocessing.sequence import pad_sequences\n",
    "from keras.layers import Dense, Input, LSTM, Embedding, Dropout, Activation, BatchNormalization, TimeDistributed, Flatten\n",
    "from keras.layers import Bidirectional, GlobalMaxPool1D,Bidirectional\n",
    "from keras.layers.embeddings import Embedding\n",
    "from keras.models import Model\n",
    "from keras.models import Sequential\n",
    "from keras.callbacks import ModelCheckpoint, ReduceLROnPlateau\n",
    "from keras.initializers import Constant\n",
    "# from keras.layers import (LSTM, Embedding, BatchNormalization, Dense, TimeDistributed, Dropout, Bidirectional, Flatten, GlobalMaxPool1D)\n",
    "# from keras.optimizers import Adam\n",
    "\n",
    "# Tensoflow modules\n",
    "from tensorflow.keras.callbacks import EarlyStopping"
   ]
  },
  {
   "cell_type": "markdown",
   "id": "aaa69bac-1108-4b5f-b14d-7033b4347116",
   "metadata": {},
   "source": [
    "### Load data\n",
    "Let's download the data from the [Kaggle - Sentiment140 dataset with 1.6 million tweets competition](https://www.kaggle.com/datasets/kazanova/sentiment140?select=training.1600000.processed.noemoticon.csv)."
   ]
  },
  {
   "cell_type": "code",
   "execution_count": 2,
   "id": "a1d80aa1-97cd-4ca7-81f5-7681435839ab",
   "metadata": {},
   "outputs": [
    {
     "data": {
      "text/html": [
       "<div>\n",
       "<style scoped>\n",
       "    .dataframe tbody tr th:only-of-type {\n",
       "        vertical-align: middle;\n",
       "    }\n",
       "\n",
       "    .dataframe tbody tr th {\n",
       "        vertical-align: top;\n",
       "    }\n",
       "\n",
       "    .dataframe thead th {\n",
       "        text-align: right;\n",
       "    }\n",
       "</style>\n",
       "<table border=\"1\" class=\"dataframe\">\n",
       "  <thead>\n",
       "    <tr style=\"text-align: right;\">\n",
       "      <th></th>\n",
       "      <th>target</th>\n",
       "      <th>text</th>\n",
       "    </tr>\n",
       "  </thead>\n",
       "  <tbody>\n",
       "    <tr>\n",
       "      <th>count</th>\n",
       "      <td>16000</td>\n",
       "      <td>16000</td>\n",
       "    </tr>\n",
       "    <tr>\n",
       "      <th>unique</th>\n",
       "      <td>2</td>\n",
       "      <td>15987</td>\n",
       "    </tr>\n",
       "    <tr>\n",
       "      <th>top</th>\n",
       "      <td>NEGATIVE</td>\n",
       "      <td>isPlayer Has Died! Sorry</td>\n",
       "    </tr>\n",
       "    <tr>\n",
       "      <th>freq</th>\n",
       "      <td>8000</td>\n",
       "      <td>5</td>\n",
       "    </tr>\n",
       "  </tbody>\n",
       "</table>\n",
       "</div>"
      ],
      "text/plain": [
       "          target                       text\n",
       "count      16000                      16000\n",
       "unique         2                      15987\n",
       "top     NEGATIVE  isPlayer Has Died! Sorry \n",
       "freq        8000                          5"
      ]
     },
     "execution_count": 2,
     "metadata": {},
     "output_type": "execute_result"
    }
   ],
   "source": [
    "# Load data from CSV\n",
    "df = pd.read_csv(r\"C:\\\\Users\\\\ezequ\\\\proyectos\\\\openclassrooms\\\\Projet_7\\\\data\\\\raw\\\\sentiment140_16000_tweets.csv\",\n",
    "                 names=[\"target\", \"text\"], encoding='latin-1')\n",
    "\n",
    "# Drop useless raw\n",
    "df = df.iloc[1: , :]\n",
    "\n",
    "df.describe(include=\"all\")"
   ]
  },
  {
   "cell_type": "markdown",
   "id": "441cbb7b-ee6c-4a65-b23c-0488cd48f72d",
   "metadata": {},
   "source": [
    "### Text pre-processing\n",
    "Before we can train our model, we need to pre-process the text data. We will tokeinze the text using Keras and vectorize the documents (list of tokens) with the word embedding model FastText.\n",
    "\n",
    "#### Text tokenization\n",
    "\n",
    "During the tokenization process, we apply the following pre-processing steps:\n",
    "\n",
    "* remove special characters\n",
    "* remove stop words\n",
    "* lemmatize words\n",
    "* transform to lowercase"
   ]
  },
  {
   "cell_type": "code",
   "execution_count": 6,
   "id": "15b56b00-a694-44bb-83bd-62f939ba4456",
   "metadata": {},
   "outputs": [],
   "source": [
    "def text_cleaning(text, ponct, only_letters, numbers):\n",
    "    text = text.lower()\n",
    "    text = unidecode(text)\n",
    "    ponctuation = \"[^!\\\"#$%&'()*+,-./:;<=>?@[\\]^_`{|}~]\"\n",
    "    number = \"[^0-9]\"\n",
    "    letters = \"[^a-zA-Z ]\"\n",
    "    if ponct == 1:\n",
    "        text = re.sub(ponctuation, '', text)\n",
    "    if only_letters == 1:\n",
    "        text = re.sub(letters, '', text)\n",
    "    if numbers == 1:\n",
    "        text = re.sub(number, '', text)\n",
    "    return text"
   ]
  },
  {
   "cell_type": "code",
   "execution_count": 7,
   "id": "d59048f3-7e85-4060-a709-094453f02118",
   "metadata": {},
   "outputs": [],
   "source": [
    "# Let's put the text in lower case.\n",
    "df[\"new_text\"] = df[\"text\"].str.lower()"
   ]
  },
  {
   "cell_type": "code",
   "execution_count": 8,
   "id": "95c283ea-d59f-4cda-894c-d9c2b7da86ce",
   "metadata": {},
   "outputs": [
    {
     "name": "stderr",
     "output_type": "stream",
     "text": [
      "100%|█████████████████████████████████████████████████████████████████████████| 16000/16000 [00:00<00:00, 39611.93it/s]\n"
     ]
    }
   ],
   "source": [
    "# Let's apply the function to write the whole contractions.\n",
    "df['new_text'] = df.progress_apply(lambda x: contractions.fix(x['text']),axis=1)"
   ]
  },
  {
   "cell_type": "code",
   "execution_count": 9,
   "id": "fd55a9a2-fa98-4fe2-9037-c51b43206bfc",
   "metadata": {},
   "outputs": [
    {
     "name": "stderr",
     "output_type": "stream",
     "text": [
      "100%|█████████████████████████████████████████████████████████████████████████| 16000/16000 [00:00<00:00, 50617.33it/s]\n"
     ]
    }
   ],
   "source": [
    "# Let's remove the punctuation.\n",
    "df['new_text'] = df.progress_apply(lambda x: text_cleaning(x['text'], 0, 1, 0),axis=1)"
   ]
  },
  {
   "cell_type": "code",
   "execution_count": 10,
   "id": "18228929-bb1a-4dd8-a561-bb826fbd08f2",
   "metadata": {},
   "outputs": [
    {
     "name": "stderr",
     "output_type": "stream",
     "text": [
      "100%|██████████████████████████████████████████████████████████████████████████| 16000/16000 [00:02<00:00, 6804.56it/s]\n"
     ]
    }
   ],
   "source": [
    "# We can separate the text into word lists => each word unit is a tokens\n",
    "df['words'] = df.progress_apply(lambda x: word_tokenize(x['new_text']),axis=1)"
   ]
  },
  {
   "cell_type": "code",
   "execution_count": 11,
   "id": "de636a4e-493c-46a4-83f3-ec48b8bc4862",
   "metadata": {},
   "outputs": [
    {
     "name": "stderr",
     "output_type": "stream",
     "text": [
      "100%|█████████████████████████████████████████████████████████████████████████| 16000/16000 [00:00<00:00, 79407.22it/s]\n"
     ]
    }
   ],
   "source": [
    "# Let's count the number of words per comment\n",
    "df['nb_words'] = df.progress_apply(lambda x: len(x['words']),axis=1)"
   ]
  },
  {
   "cell_type": "markdown",
   "id": "d05ca5bb-553d-4023-9f77-c0bdff28ad98",
   "metadata": {
    "tags": []
   },
   "source": [
    "### Cleaning Stopwords"
   ]
  },
  {
   "cell_type": "markdown",
   "id": "bf0eab12-8d30-4415-9a2d-3a09701d9e7a",
   "metadata": {},
   "source": [
    "Let's try to use the nltk library, in order to remove the words that don't bring any information."
   ]
  },
  {
   "cell_type": "code",
   "execution_count": 12,
   "id": "7be62e8c-38a2-4887-81ac-1682cd977ccc",
   "metadata": {},
   "outputs": [
    {
     "name": "stderr",
     "output_type": "stream",
     "text": [
      "[nltk_data] Downloading package stopwords to\n",
      "[nltk_data]     C:\\Users\\ezequ\\AppData\\Roaming\\nltk_data...\n",
      "[nltk_data]   Package stopwords is already up-to-date!\n"
     ]
    }
   ],
   "source": [
    "nltk.download('stopwords')\n",
    "sw_nltk = stopwords.words('english')"
   ]
  },
  {
   "cell_type": "code",
   "execution_count": 13,
   "id": "43505ea4-84e8-43c1-9049-300ad7ab8cb0",
   "metadata": {},
   "outputs": [],
   "source": [
    "keep_words = []\n",
    "new_sw_nltk = [word for word in sw_nltk if word not in keep_words]\n",
    "\n",
    "new_sw_nltk.extend(['th','pm', 's', 'er', 'paris', 'rst', 'st', 'am', 'us'])"
   ]
  },
  {
   "cell_type": "markdown",
   "id": "645178cd-0d60-4cf0-9c7d-df4479edffef",
   "metadata": {},
   "source": [
    "These words do not bring any meaning regarding the feelings in the sentences. In other words, they are so-called empty words for our project."
   ]
  },
  {
   "cell_type": "code",
   "execution_count": 14,
   "id": "bc6fe8fe-3162-46fe-9fdd-74fb592f60e5",
   "metadata": {},
   "outputs": [
    {
     "name": "stderr",
     "output_type": "stream",
     "text": [
      "C:\\Users\\ezequ\\AppData\\Local\\Temp\\ipykernel_76984\\2045429064.py:2: FutureWarning:\n",
      "\n",
      "The default value of regex will change from True to False in a future version.\n",
      "\n",
      "100%|██████████████████████████████████████████████████████████████████████████| 16000/16000 [00:01<00:00, 9699.55it/s]\n"
     ]
    }
   ],
   "source": [
    "pat = r'\\b(?:{})\\b'.format('|'.join(new_sw_nltk))\n",
    "cleaning = df['new_text'].str.replace(pat, '')\n",
    "df['new_words'] = cleaning.progress_apply(lambda x: nltk.word_tokenize(x))\n",
    "df['new_text'] = cleaning"
   ]
  },
  {
   "cell_type": "markdown",
   "id": "d69ab98a-c9b3-438c-8d95-b6b830e73171",
   "metadata": {},
   "source": [
    "Let's create a function."
   ]
  },
  {
   "cell_type": "code",
   "execution_count": 15,
   "id": "d1e20e80-61cc-4eb1-9610-388e5e0c0c3b",
   "metadata": {},
   "outputs": [],
   "source": [
    "# The process of classifying words into their parts of speech and labeling \n",
    "# them accordingly is known as part-of-speech tagging, POS-tagging, or simply tagging. \n",
    "\n",
    "def word_pos_tagger(list_words):\n",
    "    pos_tagged_text = nltk.pos_tag(list_words)\n",
    "    return pos_tagged_text"
   ]
  },
  {
   "cell_type": "markdown",
   "id": "ea6c2f41-c7b2-4fd0-a4b7-1f7c8718425a",
   "metadata": {},
   "source": [
    "Let's concatenate the words of the different documents because we want to see what is the nature of the words in our corpus in order to keep only the useful types."
   ]
  },
  {
   "cell_type": "code",
   "execution_count": 16,
   "id": "6abdb9a3-5560-4817-8e7d-cb0aef8174b1",
   "metadata": {},
   "outputs": [],
   "source": [
    "all_reviews = df[\"new_text\"].str.cat(sep=' ')\n",
    "description_words = word_pos_tagger(nltk.word_tokenize(all_reviews))"
   ]
  },
  {
   "cell_type": "code",
   "execution_count": 17,
   "id": "e623bdf0-3cd9-463e-979f-ee956c2f7d15",
   "metadata": {},
   "outputs": [],
   "source": [
    "list_keep = []\n",
    "list_excl = ['IN', 'DT', 'CD', 'CC', 'RP', 'WDT', 'EX', 'MD', 'NNP', 'WDT', 'UH', 'WRB', \n",
    "'WP', 'WP$', 'PDT', 'PRP$', 'EX', 'POS', 'SYM', 'TO', 'NNPS']\n",
    "for word, tag in description_words:\n",
    "    if tag not in list_excl:\n",
    "        list_keep.append(tag)"
   ]
  },
  {
   "cell_type": "code",
   "execution_count": 18,
   "id": "e0316635-67b1-465d-9665-648e0e09f2ba",
   "metadata": {},
   "outputs": [
    {
     "name": "stderr",
     "output_type": "stream",
     "text": [
      "100%|██████████████████████████████████████████████████████████████████████████| 16000/16000 [00:01<00:00, 9793.74it/s]\n"
     ]
    }
   ],
   "source": [
    "df[\"text_tokens_pos_tagged\"] =  df[\"new_text\"].progress_apply(lambda x: nltk.word_tokenize(x))"
   ]
  },
  {
   "cell_type": "code",
   "execution_count": 19,
   "id": "c2c6202e-6515-4405-8c98-ad58c24cc80d",
   "metadata": {},
   "outputs": [
    {
     "name": "stderr",
     "output_type": "stream",
     "text": [
      "100%|███████████████████████████████████████████████████████████████████████████| 16000/16000 [00:17<00:00, 890.97it/s]\n"
     ]
    }
   ],
   "source": [
    "df[\"text_tokens_pos_tagged\"] =  df[\"text_tokens_pos_tagged\"].progress_apply(lambda x: nltk.pos_tag(x))"
   ]
  },
  {
   "cell_type": "markdown",
   "id": "6f2decf3-e216-462e-ad0c-05233b166449",
   "metadata": {},
   "source": [
    "Let's arrange the created list"
   ]
  },
  {
   "cell_type": "code",
   "execution_count": 20,
   "id": "09b7ccad-cdbf-428f-a6d9-538467304986",
   "metadata": {},
   "outputs": [
    {
     "name": "stderr",
     "output_type": "stream",
     "text": [
      "100%|████████████████████████████████████████████████████████████████████████| 16000/16000 [00:00<00:00, 314562.97it/s]\n"
     ]
    }
   ],
   "source": [
    "list_nouns = [\"NN\", \"NNS\"]\n",
    "df[\"words_subjects\"] =  df[\"text_tokens_pos_tagged\"].progress_apply(lambda x: [y for y, tag in x if tag in list_nouns])"
   ]
  },
  {
   "cell_type": "code",
   "execution_count": 21,
   "id": "c7bbfdc7-736b-4fee-aea0-f00b1189d21c",
   "metadata": {},
   "outputs": [
    {
     "name": "stderr",
     "output_type": "stream",
     "text": [
      "100%|████████████████████████████████████████████████████████████████████████| 16000/16000 [00:00<00:00, 594146.65it/s]\n"
     ]
    }
   ],
   "source": [
    "# The join() method takes all items in an iterable and joins them into one string.\n",
    "df[\"words_subjects\"] =  df[\"words_subjects\"].progress_apply(lambda x: \" \".join(x))"
   ]
  },
  {
   "cell_type": "markdown",
   "id": "316d7f40-9317-4ec0-9fa6-47022d729c76",
   "metadata": {},
   "source": [
    "It would also be interesting to **keep the root of the words** after filtering on the names.\n",
    "There are two methods:\n",
    "\n",
    "    - Stemming removes suffixes and prefixes from words without taking the context into consideration. \n",
    "    - Lemmatization method considers the context and converts the word into its \"meaningful\" base form."
   ]
  },
  {
   "cell_type": "code",
   "execution_count": 22,
   "id": "4fb54c32-de08-439d-b5e1-92207c7bdfe6",
   "metadata": {},
   "outputs": [],
   "source": [
    "def stemming_text(word):\n",
    "    stemmer = SnowballStemmer(language='english')\n",
    "    return stemmer.stem(word)\n",
    " \n",
    "def lemmatize_text(text):\n",
    "    lemmatizer = nltk.stem.WordNetLemmatizer()\n",
    "    # w_tokenizer = nltk.tokenize.WhitespaceTokenizer()\n",
    "    return lemmatizer.lemmatize(text)"
   ]
  },
  {
   "cell_type": "code",
   "execution_count": 23,
   "id": "99bc856d-ffae-423a-802e-d3d119c3d400",
   "metadata": {},
   "outputs": [
    {
     "name": "stderr",
     "output_type": "stream",
     "text": [
      "100%|█████████████████████████████████████████████████████████████████████████| 16000/16000 [00:00<00:00, 42137.80it/s]\n"
     ]
    }
   ],
   "source": [
    "df[\"words_subjects_st\"] = df[\"words_subjects\"].progress_apply(lambda x: stemming_text(x))"
   ]
  },
  {
   "cell_type": "code",
   "execution_count": 24,
   "id": "2f13820c-bd08-4bde-b80a-80e073262533",
   "metadata": {},
   "outputs": [
    {
     "name": "stderr",
     "output_type": "stream",
     "text": [
      "100%|██████████████████████████████████████████████████████████████████████████| 16000/16000 [00:01<00:00, 9028.05it/s]\n"
     ]
    }
   ],
   "source": [
    "df[\"words_subjects_lem\"] = df[\"words_subjects\"].progress_apply(lambda x: lemmatize_text(x))"
   ]
  },
  {
   "cell_type": "code",
   "execution_count": 25,
   "id": "feb3ea83-db5c-45c2-9dd7-121efb22cc91",
   "metadata": {},
   "outputs": [
    {
     "name": "stderr",
     "output_type": "stream",
     "text": [
      "100%|█████████████████████████████████████████████████████████████████████████| 16000/16000 [00:01<00:00, 12530.44it/s]\n"
     ]
    }
   ],
   "source": [
    "df[\"words_token_lem\"] = df[\"words_subjects_lem\"].progress_apply(lambda x: word_tokenize(x))"
   ]
  },
  {
   "cell_type": "code",
   "execution_count": 26,
   "id": "98c331c8-28ab-4c73-ba34-4dd9b0d0e33b",
   "metadata": {},
   "outputs": [
    {
     "name": "stderr",
     "output_type": "stream",
     "text": [
      "100%|█████████████████████████████████████████████████████████████████████████| 16000/16000 [00:01<00:00, 12864.51it/s]\n"
     ]
    }
   ],
   "source": [
    "df[\"words_token_st\"] = df[\"words_subjects_st\"].progress_apply(lambda x: word_tokenize(x))"
   ]
  },
  {
   "cell_type": "markdown",
   "id": "2f8b064e-2fdd-4a37-aeea-536b56f2938e",
   "metadata": {},
   "source": [
    "### Target encoding"
   ]
  },
  {
   "cell_type": "code",
   "execution_count": 27,
   "id": "9ff5773a-7d61-42ed-8649-c06a3f3e8c97",
   "metadata": {},
   "outputs": [
    {
     "data": {
      "text/html": [
       "<div>\n",
       "<style scoped>\n",
       "    .dataframe tbody tr th:only-of-type {\n",
       "        vertical-align: middle;\n",
       "    }\n",
       "\n",
       "    .dataframe tbody tr th {\n",
       "        vertical-align: top;\n",
       "    }\n",
       "\n",
       "    .dataframe thead th {\n",
       "        text-align: right;\n",
       "    }\n",
       "</style>\n",
       "<table border=\"1\" class=\"dataframe\">\n",
       "  <thead>\n",
       "    <tr style=\"text-align: right;\">\n",
       "      <th></th>\n",
       "      <th>target</th>\n",
       "      <th>text</th>\n",
       "      <th>new_text</th>\n",
       "      <th>words</th>\n",
       "      <th>nb_words</th>\n",
       "      <th>new_words</th>\n",
       "      <th>text_tokens_pos_tagged</th>\n",
       "      <th>words_subjects</th>\n",
       "      <th>words_subjects_st</th>\n",
       "      <th>words_subjects_lem</th>\n",
       "      <th>words_token_lem</th>\n",
       "      <th>words_token_st</th>\n",
       "      <th>target_encoded</th>\n",
       "    </tr>\n",
       "  </thead>\n",
       "  <tbody>\n",
       "    <tr>\n",
       "      <th>1</th>\n",
       "      <td>NEGATIVE</td>\n",
       "      <td>@xnausikaax oh no! where did u order from? tha...</td>\n",
       "      <td>xnausikaax oh    u order  thats horrible</td>\n",
       "      <td>[xnausikaax, oh, no, where, did, u, order, fro...</td>\n",
       "      <td>10</td>\n",
       "      <td>[xnausikaax, oh, u, order, thats, horrible]</td>\n",
       "      <td>[(xnausikaax, JJ), (oh, MD), (u, JJ), (order, ...</td>\n",
       "      <td>order thats</td>\n",
       "      <td>order that</td>\n",
       "      <td>order thats</td>\n",
       "      <td>[order, thats]</td>\n",
       "      <td>[order, that]</td>\n",
       "      <td>0</td>\n",
       "    </tr>\n",
       "    <tr>\n",
       "      <th>2</th>\n",
       "      <td>NEGATIVE</td>\n",
       "      <td>A great hard training weekend is over.  a coup...</td>\n",
       "      <td>great hard training weekend     couple days  ...</td>\n",
       "      <td>[a, great, hard, training, weekend, is, over, ...</td>\n",
       "      <td>25</td>\n",
       "      <td>[great, hard, training, weekend, couple, days,...</td>\n",
       "      <td>[(great, JJ), (hard, JJ), (training, NN), (wee...</td>\n",
       "      <td>training weekend couple days lets computer time</td>\n",
       "      <td>training weekend couple days lets computer tim</td>\n",
       "      <td>training weekend couple days lets computer time</td>\n",
       "      <td>[training, weekend, couple, days, lets, comput...</td>\n",
       "      <td>[training, weekend, couple, days, lets, comput...</td>\n",
       "      <td>0</td>\n",
       "    </tr>\n",
       "    <tr>\n",
       "      <th>3</th>\n",
       "      <td>NEGATIVE</td>\n",
       "      <td>Right, off to work  Only 5 hours to go until I...</td>\n",
       "      <td>right   work    hours  go  im free xd</td>\n",
       "      <td>[right, off, to, work, only, hours, to, go, un...</td>\n",
       "      <td>12</td>\n",
       "      <td>[right, work, hours, go, im, free, xd]</td>\n",
       "      <td>[(right, JJ), (work, NN), (hours, NNS), (go, V...</td>\n",
       "      <td>work hours xd</td>\n",
       "      <td>work hours xd</td>\n",
       "      <td>work hours xd</td>\n",
       "      <td>[work, hours, xd]</td>\n",
       "      <td>[work, hours, xd]</td>\n",
       "      <td>0</td>\n",
       "    </tr>\n",
       "    <tr>\n",
       "      <th>4</th>\n",
       "      <td>NEGATIVE</td>\n",
       "      <td>I am craving for japanese food</td>\n",
       "      <td>craving  japanese food</td>\n",
       "      <td>[i, am, craving, for, japanese, food]</td>\n",
       "      <td>6</td>\n",
       "      <td>[craving, japanese, food]</td>\n",
       "      <td>[(craving, VBG), (japanese, JJ), (food, NN)]</td>\n",
       "      <td>food</td>\n",
       "      <td>food</td>\n",
       "      <td>food</td>\n",
       "      <td>[food]</td>\n",
       "      <td>[food]</td>\n",
       "      <td>0</td>\n",
       "    </tr>\n",
       "    <tr>\n",
       "      <th>5</th>\n",
       "      <td>NEGATIVE</td>\n",
       "      <td>Jean Michel Jarre concert tomorrow  gotta work...</td>\n",
       "      <td>jean michel jarre concert tomorrow  gotta work...</td>\n",
       "      <td>[jean, michel, jarre, concert, tomorrow, got, ...</td>\n",
       "      <td>10</td>\n",
       "      <td>[jean, michel, jarre, concert, tomorrow, got, ...</td>\n",
       "      <td>[(jean, JJ), (michel, NN), (jarre, NN), (conce...</td>\n",
       "      <td>michel jarre concert tomorrow work</td>\n",
       "      <td>michel jarre concert tomorrow work</td>\n",
       "      <td>michel jarre concert tomorrow work</td>\n",
       "      <td>[michel, jarre, concert, tomorrow, work]</td>\n",
       "      <td>[michel, jarre, concert, tomorrow, work]</td>\n",
       "      <td>0</td>\n",
       "    </tr>\n",
       "  </tbody>\n",
       "</table>\n",
       "</div>"
      ],
      "text/plain": [
       "     target                                               text  \\\n",
       "1  NEGATIVE  @xnausikaax oh no! where did u order from? tha...   \n",
       "2  NEGATIVE  A great hard training weekend is over.  a coup...   \n",
       "3  NEGATIVE  Right, off to work  Only 5 hours to go until I...   \n",
       "4  NEGATIVE                    I am craving for japanese food    \n",
       "5  NEGATIVE  Jean Michel Jarre concert tomorrow  gotta work...   \n",
       "\n",
       "                                            new_text  \\\n",
       "1          xnausikaax oh    u order  thats horrible    \n",
       "2   great hard training weekend     couple days  ...   \n",
       "3              right   work    hours  go  im free xd   \n",
       "4                            craving  japanese food    \n",
       "5  jean michel jarre concert tomorrow  gotta work...   \n",
       "\n",
       "                                               words  nb_words  \\\n",
       "1  [xnausikaax, oh, no, where, did, u, order, fro...        10   \n",
       "2  [a, great, hard, training, weekend, is, over, ...        25   \n",
       "3  [right, off, to, work, only, hours, to, go, un...        12   \n",
       "4              [i, am, craving, for, japanese, food]         6   \n",
       "5  [jean, michel, jarre, concert, tomorrow, got, ...        10   \n",
       "\n",
       "                                           new_words  \\\n",
       "1        [xnausikaax, oh, u, order, thats, horrible]   \n",
       "2  [great, hard, training, weekend, couple, days,...   \n",
       "3             [right, work, hours, go, im, free, xd]   \n",
       "4                          [craving, japanese, food]   \n",
       "5  [jean, michel, jarre, concert, tomorrow, got, ...   \n",
       "\n",
       "                              text_tokens_pos_tagged  \\\n",
       "1  [(xnausikaax, JJ), (oh, MD), (u, JJ), (order, ...   \n",
       "2  [(great, JJ), (hard, JJ), (training, NN), (wee...   \n",
       "3  [(right, JJ), (work, NN), (hours, NNS), (go, V...   \n",
       "4       [(craving, VBG), (japanese, JJ), (food, NN)]   \n",
       "5  [(jean, JJ), (michel, NN), (jarre, NN), (conce...   \n",
       "\n",
       "                                    words_subjects  \\\n",
       "1                                      order thats   \n",
       "2  training weekend couple days lets computer time   \n",
       "3                                    work hours xd   \n",
       "4                                             food   \n",
       "5               michel jarre concert tomorrow work   \n",
       "\n",
       "                                words_subjects_st  \\\n",
       "1                                      order that   \n",
       "2  training weekend couple days lets computer tim   \n",
       "3                                   work hours xd   \n",
       "4                                            food   \n",
       "5              michel jarre concert tomorrow work   \n",
       "\n",
       "                                words_subjects_lem  \\\n",
       "1                                      order thats   \n",
       "2  training weekend couple days lets computer time   \n",
       "3                                    work hours xd   \n",
       "4                                             food   \n",
       "5               michel jarre concert tomorrow work   \n",
       "\n",
       "                                     words_token_lem  \\\n",
       "1                                     [order, thats]   \n",
       "2  [training, weekend, couple, days, lets, comput...   \n",
       "3                                  [work, hours, xd]   \n",
       "4                                             [food]   \n",
       "5           [michel, jarre, concert, tomorrow, work]   \n",
       "\n",
       "                                      words_token_st  target_encoded  \n",
       "1                                      [order, that]               0  \n",
       "2  [training, weekend, couple, days, lets, comput...               0  \n",
       "3                                  [work, hours, xd]               0  \n",
       "4                                             [food]               0  \n",
       "5           [michel, jarre, concert, tomorrow, work]               0  "
      ]
     },
     "execution_count": 27,
     "metadata": {},
     "output_type": "execute_result"
    }
   ],
   "source": [
    "le = LabelEncoder()\n",
    "le.fit(df['target'])\n",
    "\n",
    "df['target_encoded'] = le.transform(df['target'])\n",
    "df.head()"
   ]
  },
  {
   "cell_type": "markdown",
   "id": "1f8e24f7-fdfd-46c1-b502-dea2f00a2147",
   "metadata": {
    "tags": []
   },
   "source": [
    "### Vectorization\n",
    "#### Word embedding:\n",
    "    - Glove\n",
    "    - Word2vec\n",
    "    - Fasttext\n",
    "Currently, we have the messages as lists of tokens (also known as lemmas) and now we need to convert each of those messages into a vector the SciKit Learn's algorithm models can work with.\n",
    "\n",
    "We will test lammelization to keep the root of eack token."
   ]
  },
  {
   "cell_type": "markdown",
   "id": "9088712f-1a5f-4b5a-9293-ef62e3e243c0",
   "metadata": {},
   "source": [
    "### Lemmatization"
   ]
  },
  {
   "cell_type": "code",
   "execution_count": 28,
   "id": "081d7745-81a6-4502-b18e-003b98280347",
   "metadata": {},
   "outputs": [],
   "source": [
    "list_sentences_train = df[\"words_subjects_lem\"].values\n",
    "list_sentences_test = df[\"words_subjects_lem\"].values"
   ]
  },
  {
   "cell_type": "code",
   "execution_count": 29,
   "id": "1362c730-865d-4a99-ae51-cd279a9e04fd",
   "metadata": {},
   "outputs": [],
   "source": [
    "list_classes = [\"target_encoded\"]\n",
    "y = df[list_classes].values\n",
    "\n",
    "max_features = 20000\n",
    "tokenizer = Tokenizer(num_words=max_features)\n",
    "tokenizer.fit_on_texts(list_sentences_train)\n",
    "list_tokenized_train = tokenizer.texts_to_sequences(list_sentences_train)\n",
    "list_tokenized_test = tokenizer.texts_to_sequences(list_sentences_test)"
   ]
  },
  {
   "cell_type": "code",
   "execution_count": 30,
   "id": "aa434d64-4699-42ea-abaa-285473f9d007",
   "metadata": {},
   "outputs": [],
   "source": [
    "# Calculate the length of our vocabulary\n",
    "from keras.preprocessing.text import Tokenizer\n",
    "\n",
    "word_tokenizer = Tokenizer()\n",
    "word_tokenizer.fit_on_texts(list_sentences_train)"
   ]
  },
  {
   "cell_type": "code",
   "execution_count": 31,
   "id": "18d71bb6-7f62-47ff-bfd6-e647f9bebf80",
   "metadata": {},
   "outputs": [
    {
     "name": "stdout",
     "output_type": "stream",
     "text": [
      "Vocabulary Size : 18877\n"
     ]
    }
   ],
   "source": [
    "word_index = tokenizer.word_index\n",
    "vocab_size = len(tokenizer.word_index)  + 1\n",
    "print(\"Vocabulary Size :\", vocab_size)"
   ]
  },
  {
   "cell_type": "code",
   "execution_count": 32,
   "id": "a3119b58-ba7d-410f-94ca-670f27d1e8e9",
   "metadata": {},
   "outputs": [],
   "source": [
    "def embed(corpus): \n",
    "    return word_tokenizer.texts_to_sequences(corpus)"
   ]
  },
  {
   "cell_type": "code",
   "execution_count": 33,
   "id": "6b2b2c44-5f5f-4a21-842a-5a2d038f755f",
   "metadata": {},
   "outputs": [],
   "source": [
    "longest_train = max(list_sentences_train, key=lambda sentence: len(word_tokenize(sentence)))\n",
    "length_long_sentence = len(word_tokenize(longest_train))\n",
    "padded_sentences = pad_sequences(embed(list_sentences_train), length_long_sentence, padding='post')"
   ]
  },
  {
   "cell_type": "code",
   "execution_count": 34,
   "id": "aa7bc59e-6160-406f-a6f6-4f80569464bf",
   "metadata": {},
   "outputs": [],
   "source": [
    "maxlen = 300\n",
    "X_t = pad_sequences(list_tokenized_train, maxlen=maxlen)\n",
    "X_te = pad_sequences(list_tokenized_test, maxlen=maxlen)"
   ]
  },
  {
   "cell_type": "markdown",
   "id": "655b2de1-8748-4d8f-8c5f-1dc6e1ac1111",
   "metadata": {},
   "source": [
    "The function would return a new embedding matrix that has the loaded weights from the pretrained embeddings for the common words we have, and randomly initialized numbers that has the same mean and standard deviation for the rest of the weights in this matrix."
   ]
  },
  {
   "cell_type": "code",
   "execution_count": 35,
   "id": "6e08a554-c189-4f2d-a8fc-fb3fe63cd33b",
   "metadata": {
    "tags": []
   },
   "outputs": [],
   "source": [
    "## ADAPTACION PARA CREAR DF CON RESULTS\n",
    "def loadEmbeddingMatrix(typeToLoad):\n",
    "    \"\"\"\n",
    "    Args:\n",
    "        typeToLoad: word_embedding type\n",
    "    Returns:\n",
    "        Embedding_matrix.\n",
    "    \"\"\"\n",
    "    \n",
    "    \n",
    "#load different embedding file from Kaggle depending on which embedding \n",
    "#matrix we are going to experiment with\n",
    "    if(typeToLoad==\"glove\"):\n",
    "        EMBEDDING_FILE= ('C://Users//ezequ//proyectos//openclassrooms//Projet_7//data//raw//glove.6B.300d.txt')\n",
    "        embed_size = 300\n",
    "    elif(typeToLoad==\"word2vec\"):\n",
    "#             w2v_model = Word2Vec.load('C://Users//ezequ//proyectos//openclassrooms//Projet_7//data//raw//GoogleNews-vectors-negative300.bin',binary=True,limit=100000)\n",
    "#             model = w2v_model.wv\n",
    "        model = word2vec.KeyedVectors.load_word2vec_format('C:\\Program Files (x86)\\GoogleNews-vectors-negative300\\GoogleNews-vectors-negative300.bin',binary=True,limit=100000)\n",
    "        #model = KeyedVectors.load_word2vec_format('C:\\Program Files (x86)\\GoogleNews-vectors-negative300\\GoogleNews-vectors-negative300.bin',binary=True,limit=100000)\n",
    "        #word2vec_model =  gensim.models.KeyedVectors.load_word2vec_format('C:\\Program Files (x86)\\GoogleNews-vectors-negative300\\GoogleNews-vectors-negative300.bin', encoding=\"utf8\", binary=True)\n",
    "        embed_size = 300\n",
    "    elif(typeToLoad==\"fasttext\"):\n",
    "        EMBEDDING_FILE= ('C://Users//ezequ//proyectos//openclassrooms//Projet_7//data//raw//wiki-news-300d-1M.vec')\n",
    "        embed_size = 300\n",
    "\n",
    "    if(typeToLoad==\"glove\" or typeToLoad==\"fasttext\" ):\n",
    "        embeddings_index = dict()\n",
    "        #Transfer the embedding weights into a dictionary by iterating through every line of the file.\n",
    "        f = open(EMBEDDING_FILE, encoding=\"utf8\")\n",
    "        for line in f:\n",
    "            #split up line into an indexed array\n",
    "            values = line.split()\n",
    "            #first index is word\n",
    "            word = values[0]\n",
    "            #store the rest of the values in the array as a new array\n",
    "            coefs = np.asarray(values[1:], dtype='float32')\n",
    "            embeddings_index[word] = coefs #50 dimensions\n",
    "        f.close()\n",
    "        print('Loaded %s word vectors.' % len(embeddings_index))\n",
    "    else:\n",
    "        embeddings_index = dict()\n",
    "        for word in model.key_to_index:\n",
    "            embeddings_index[word] = model.word_vec(word)\n",
    "        print('Loaded %s word vectors.' % len(embeddings_index))\n",
    "\n",
    "    gc.collect()\n",
    "#We get the mean and standard deviation of the embedding weights so that we could maintain the \n",
    "#same statistics for the rest of our own random generated weights. \n",
    "    all_embs = np.hstack(list(embeddings_index.values()))\n",
    "    emb_mean,emb_std = all_embs.mean(), all_embs.std()\n",
    "\n",
    "    nb_words = len(tokenizer.word_index)\n",
    "#We are going to set the embedding size to the pretrained dimension as we are replicating it.\n",
    "#the size will be Number of Words in Vocab X Embedding Size\n",
    "    embedding_matrix = np.random.normal(emb_mean, emb_std, (nb_words, embed_size))\n",
    "    gc.collect()\n",
    "\n",
    "#With the newly created embedding matrix, we'll fill it up with the words that we have in both \n",
    "#our own dictionary and loaded pretrained embedding. \n",
    "    EMBEDDING_DIM = 300\n",
    "    embedding_matrix = np.zeros((len(word_index) + 1, EMBEDDING_DIM))\n",
    "    embeddedCount = 0\n",
    "    for word, i in word_index.items():\n",
    "        i-=1\n",
    "        #then we see if this word is in glove's dictionary, if yes, get the corresponding weights\n",
    "        embedding_vector = embeddings_index.get(word)\n",
    "        #and store inside the embedding matrix that we will train later on.\n",
    "        if embedding_vector is not None: \n",
    "            embedding_matrix[i] = embedding_vector\n",
    "            embeddedCount+=1\n",
    "    print('total embedded:',embeddedCount,'common words')\n",
    "\n",
    "    del(embeddings_index)\n",
    "    gc.collect()\n",
    "    \n",
    "\n",
    "    #finally, return the embedding matrix\n",
    "    return embedding_matrix\n",
    "    "
   ]
  },
  {
   "cell_type": "markdown",
   "id": "7a660be5-d603-44eb-8df1-2c57a5912291",
   "metadata": {},
   "source": [
    "The function would return a new embedding matrix that has the loaded weights from the pretrained embeddings for the common words we have, and randomly initialized numbers that has the same mean and standard deviation for the rest of the weights in this matrix"
   ]
  },
  {
   "cell_type": "markdown",
   "id": "5a3b59d3-0c16-4d14-875d-8af4a6336250",
   "metadata": {},
   "source": [
    "#### FastTex\n",
    "Now we load our third embeddings from FastText"
   ]
  },
  {
   "cell_type": "code",
   "execution_count": 36,
   "id": "3a9b780e-b99b-42d9-84a0-6669344eb3cc",
   "metadata": {},
   "outputs": [
    {
     "name": "stdout",
     "output_type": "stream",
     "text": [
      "Loaded 999995 word vectors.\n",
      "total embedded: 9365 common words\n"
     ]
    }
   ],
   "source": [
    "embedding_matrix_fasttext = loadEmbeddingMatrix('fasttext')"
   ]
  },
  {
   "cell_type": "code",
   "execution_count": 37,
   "id": "e654f99a-874a-4237-866f-ed2c21169702",
   "metadata": {},
   "outputs": [
    {
     "data": {
      "text/plain": [
       "(18877, 300)"
      ]
     },
     "execution_count": 37,
     "metadata": {},
     "output_type": "execute_result"
    }
   ],
   "source": [
    "embedding_matrix_fasttext.shape"
   ]
  },
  {
   "cell_type": "code",
   "execution_count": 38,
   "id": "28168dde-d6e1-44dd-b5a5-b707556d06da",
   "metadata": {},
   "outputs": [],
   "source": [
    "maxlen=300\n",
    "inp = Input(shape=(maxlen, )) \n",
    "EMBEDDING_DIM = 300\n",
    "x_fasttext = Embedding(vocab_size,\n",
    "          EMBEDDING_DIM,\n",
    "          weights=[embedding_matrix_fasttext],\n",
    "          input_length=length_long_sentence,\n",
    "          trainable=False)(inp)"
   ]
  },
  {
   "cell_type": "markdown",
   "id": "e3dc9edf-139f-4bf6-9c01-1e8fb27e4c71",
   "metadata": {},
   "source": [
    "#### Model LSTM"
   ]
  },
  {
   "cell_type": "code",
   "execution_count": 39,
   "id": "4711713a-a481-41d3-98ef-c44b7fdfd935",
   "metadata": {},
   "outputs": [],
   "source": [
    "from random import shuffle\n",
    "from sklearn.model_selection import train_test_split\n",
    "\n",
    "# Split data into train and test sets\n",
    "# set aside 20% of train and test data for evaluation\n",
    "# Manually shuffle the data to avoind val_acc and loss_acc with insignificant values\n",
    "np.random.shuffle(X_t)\n",
    "np.random.shuffle(y)\n",
    "\n",
    "X_train, X_test, y_train, y_test = train_test_split(X_t, y,\n",
    "    test_size=0.2, shuffle = shuffle, random_state = 42)\n",
    "\n",
    "# Use the same function above for the validation set\n",
    "X_train, X_val, y_train, y_val = train_test_split(X_train, y_train, \n",
    "    test_size=0.1, random_state= 42) # 0.25 x 0.8 = 0.2"
   ]
  },
  {
   "cell_type": "code",
   "execution_count": 40,
   "id": "68c1cf4c-0643-4c31-84ff-23c9d76ba79e",
   "metadata": {},
   "outputs": [
    {
     "name": "stdout",
     "output_type": "stream",
     "text": [
      "X_train shape: (11520, 300)\n",
      "X_test shape: (3200, 300)\n",
      "y_train shape: (11520, 1)\n",
      "y_test shape: (3200, 1)\n",
      "X_val shape: (1280, 300)\n",
      "y_val shape: (1280, 1)\n"
     ]
    }
   ],
   "source": [
    "# Print the sets data shapes\n",
    "print(\"X_train shape: {}\".format(X_train.shape))\n",
    "print(\"X_test shape: {}\".format(X_test.shape))\n",
    "print(\"y_train shape: {}\".format(y_train.shape))\n",
    "print(\"y_test shape: {}\".format(y_test.shape))\n",
    "print(\"X_val shape: {}\".format(X_val.shape))\n",
    "print(\"y_val shape: {}\".format(y_val.shape))"
   ]
  },
  {
   "cell_type": "markdown",
   "id": "e02d7d0f-41b3-4c6a-8978-f8cc41cc520f",
   "metadata": {},
   "source": [
    "#### LSTM model"
   ]
  },
  {
   "cell_type": "code",
   "execution_count": 41,
   "id": "66ed1312-6cfb-435e-988f-460f0f3daca6",
   "metadata": {},
   "outputs": [
    {
     "name": "stdout",
     "output_type": "stream",
     "text": [
      "Model: \"sequential\"\n",
      "_________________________________________________________________\n",
      " Layer (type)                Output Shape              Param #   \n",
      "=================================================================\n",
      " embedding_1 (Embedding)     (None, 300, 300)          5663100   \n",
      "                                                                 \n",
      " bidirectional (Bidirectiona  (None, 300, 130)         190320    \n",
      " l)                                                              \n",
      "                                                                 \n",
      " global_max_pooling1d (Globa  (None, 130)              0         \n",
      " lMaxPooling1D)                                                  \n",
      "                                                                 \n",
      " batch_normalization (BatchN  (None, 130)              520       \n",
      " ormalization)                                                   \n",
      "                                                                 \n",
      " dropout (Dropout)           (None, 130)               0         \n",
      "                                                                 \n",
      " dense (Dense)               (None, 65)                8515      \n",
      "                                                                 \n",
      " dropout_1 (Dropout)         (None, 65)                0         \n",
      "                                                                 \n",
      " dense_1 (Dense)             (None, 65)                4290      \n",
      "                                                                 \n",
      " dropout_2 (Dropout)         (None, 65)                0         \n",
      "                                                                 \n",
      " dense_2 (Dense)             (None, 1)                 66        \n",
      "                                                                 \n",
      "=================================================================\n",
      "Total params: 5,866,811\n",
      "Trainable params: 5,866,551\n",
      "Non-trainable params: 260\n",
      "_________________________________________________________________\n"
     ]
    }
   ],
   "source": [
    "def lstm_1():\n",
    "    model = Sequential()\n",
    "    \n",
    "    model.add(Embedding(\n",
    "        input_dim=embedding_matrix_fasttext.shape[0], \n",
    "        output_dim=embedding_matrix_fasttext.shape[1], \n",
    "        weights = [embedding_matrix_fasttext], \n",
    "        input_length=maxlen\n",
    "    ))\n",
    "    \n",
    "    model.add(Bidirectional(LSTM(\n",
    "        length_long_sentence, \n",
    "        return_sequences = True, \n",
    "        recurrent_dropout=0.2\n",
    "    )))\n",
    "    \n",
    "    model.add(GlobalMaxPool1D())\n",
    "    model.add(BatchNormalization())\n",
    "    model.add(Dropout(0.2))\n",
    "    model.add(Dense(length_long_sentence, activation = \"relu\"))\n",
    "    model.add(Dropout(0.2))\n",
    "    model.add(Dense(length_long_sentence, activation = \"relu\"))\n",
    "    model.add(Dropout(0.2))\n",
    "    model.add(Dense(1, activation = 'sigmoid'))\n",
    "    model.compile(optimizer='rmsprop', loss='binary_crossentropy', metrics=['accuracy'])\n",
    "    \n",
    "    return model\n",
    "\n",
    "model = lstm_1()\n",
    "model.summary()"
   ]
  },
  {
   "cell_type": "code",
   "execution_count": 42,
   "id": "7007cbce-2989-4d25-8f87-88a2c53130c0",
   "metadata": {},
   "outputs": [
    {
     "name": "stdout",
     "output_type": "stream",
     "text": [
      "Epoch 1/10\n",
      "360/360 [==============================] - 162s 441ms/step - loss: 0.7032 - accuracy: 0.4998 - val_loss: 0.6982 - val_accuracy: 0.4859\n",
      "Epoch 2/10\n",
      "360/360 [==============================] - 170s 471ms/step - loss: 0.6933 - accuracy: 0.5216 - val_loss: 0.7139 - val_accuracy: 0.4930\n",
      "Epoch 3/10\n",
      "360/360 [==============================] - 166s 460ms/step - loss: 0.6742 - accuracy: 0.5791 - val_loss: 0.7642 - val_accuracy: 0.5172\n",
      "Epoch 4/10\n",
      "360/360 [==============================] - 174s 482ms/step - loss: 0.5887 - accuracy: 0.6867 - val_loss: 0.8065 - val_accuracy: 0.5164\n"
     ]
    }
   ],
   "source": [
    "from tensorflow.keras.callbacks import EarlyStopping\n",
    "\n",
    "batch_size = 32\n",
    "epochs = 10\n",
    "\n",
    "hist = model.fit(X_train,\n",
    "                 y_train, \n",
    "                 batch_size=batch_size, \n",
    "                 epochs=epochs, \n",
    "                 validation_data= [X_val, y_val], \n",
    "                 callbacks=[EarlyStopping(monitor=\"val_loss\", patience=3),], \n",
    "                 workers=4,\n",
    "                 use_multiprocessing=True,)"
   ]
  },
  {
   "cell_type": "code",
   "execution_count": 43,
   "id": "68cc750e-35e0-44e0-bf52-8874deb3e23b",
   "metadata": {},
   "outputs": [],
   "source": [
    "def plot(history, arr):\n",
    "    fig, ax = plt.subplots(1, 2, figsize=(20, 5))\n",
    "    for idx in range(2):\n",
    "        ax[idx].plot(history.history[arr[idx][0]])\n",
    "        ax[idx].plot(history.history[arr[idx][1]])\n",
    "        ax[idx].legend([arr[idx][0], arr[idx][1]],fontsize=18)\n",
    "        ax[idx].set_xlabel('Epoch ',fontsize=16)\n",
    "        ax[idx].set_ylabel('B',fontsize=16)\n",
    "        ax[idx].set_title(arr[idx][0] + ' X ' + arr[idx][1],fontsize=16)"
   ]
  },
  {
   "cell_type": "code",
   "execution_count": 44,
   "id": "16554bbe-47bf-4259-98d0-bd1c5b773657",
   "metadata": {},
   "outputs": [
    {
     "data": {
      "image/png": "[encoded data removed]",
      "text/plain": [
       "<Figure size 1440x360 with 2 Axes>"
      ]
     },
     "metadata": {
      "needs_background": "light"
     },
     "output_type": "display_data"
    }
   ],
   "source": [
    "plot(hist, [['loss', 'val_loss'],['accuracy', 'val_accuracy']])"
   ]
  },
  {
   "cell_type": "code",
   "execution_count": 45,
   "id": "858daa58-69e3-4ceb-9a1a-1876139e3447",
   "metadata": {},
   "outputs": [
    {
     "name": "stdout",
     "output_type": "stream",
     "text": [
      "100/100 [==============================] - 10s 100ms/step - loss: 0.8339 - accuracy: 0.4994\n",
      "Loss: 0.8338510990142822\n",
      "Accuracy: 0.49937498569488525\n"
     ]
    }
   ],
   "source": [
    "loss, accuracy = model.evaluate(X_test, y_test)\n",
    "print('Loss:', loss)\n",
    "print('Accuracy:', accuracy)"
   ]
  },
  {
   "cell_type": "code",
   "execution_count": 46,
   "id": "e54a553b-dedc-4a0e-9fcb-812f5b5600d7",
   "metadata": {},
   "outputs": [
    {
     "name": "stdout",
     "output_type": "stream",
     "text": [
      "              precision    recall  f1-score   support\n",
      "\n",
      "    NEGATIVE       0.52      0.91      0.66       658\n",
      "    POSITIVE       0.51      0.10      0.17       622\n",
      "\n",
      "    accuracy                           0.52      1280\n",
      "   macro avg       0.51      0.51      0.41      1280\n",
      "weighted avg       0.51      0.52      0.42      1280\n",
      "\n",
      "ROC AUC score :  0.505\n",
      "Average Precision score :  0.489\n"
     ]
    },
    {
     "data": {
      "application/vnd.plotly.v1+json": {
       "config": {
        "plotlyServerURL": "https://plot.ly"
       },
       "data": [
        {
         "colorscale": [
          [
           0,
           "#440154"
          ],
          [
           0.1111111111111111,
           "#482878"
          ],
          [
           0.2222222222222222,
           "#3e4989"
          ],
          [
           0.3333333333333333,
           "#31688e"
          ],
          [
           0.4444444444444444,
           "#26828e"
          ],
          [
           0.5555555555555556,
           "#1f9e89"
          ],
          [
           0.6666666666666666,
           "#35b779"
          ],
          [
           0.7777777777777778,
           "#6ece58"
          ],
          [
           0.8888888888888888,
           "#b5de2b"
          ],
          [
           1,
           "#fde725"
          ]
         ],
         "reversescale": false,
         "showscale": true,
         "type": "heatmap",
         "x": [
          "NEGATIVE",
          "POSITIVE"
         ],
         "y": [
          "POSITIVE",
          "NEGATIVE"
         ],
         "z": [
          [
           560,
           62
          ],
          [
           599,
           59
          ]
         ]
        }
       ],
       "layout": {
        "annotations": [
         {
          "font": {
           "color": "#000000"
          },
          "showarrow": false,
          "text": "560",
          "x": "NEGATIVE",
          "xref": "x",
          "y": "POSITIVE",
          "yref": "y"
         },
         {
          "font": {
           "color": "#FFFFFF"
          },
          "showarrow": false,
          "text": "62",
          "x": "POSITIVE",
          "xref": "x",
          "y": "POSITIVE",
          "yref": "y"
         },
         {
          "font": {
           "color": "#000000"
          },
          "showarrow": false,
          "text": "599",
          "x": "NEGATIVE",
          "xref": "x",
          "y": "NEGATIVE",
          "yref": "y"
         },
         {
          "font": {
           "color": "#FFFFFF"
          },
          "showarrow": false,
          "text": "59",
          "x": "POSITIVE",
          "xref": "x",
          "y": "NEGATIVE",
          "yref": "y"
         }
        ],
        "autosize": true,
        "template": {
         "data": {
          "bar": [
           {
            "error_x": {
             "color": "#2a3f5f"
            },
            "error_y": {
             "color": "#2a3f5f"
            },
            "marker": {
             "line": {
              "color": "#E5ECF6",
              "width": 0.5
             },
             "pattern": {
              "fillmode": "overlay",
              "size": 10,
              "solidity": 0.2
             }
            },
            "type": "bar"
           }
          ],
          "barpolar": [
           {
            "marker": {
             "line": {
              "color": "#E5ECF6",
              "width": 0.5
             },
             "pattern": {
              "fillmode": "overlay",
              "size": 10,
              "solidity": 0.2
             }
            },
            "type": "barpolar"
           }
          ],
          "carpet": [
           {
            "aaxis": {
             "endlinecolor": "#2a3f5f",
             "gridcolor": "white",
             "linecolor": "white",
             "minorgridcolor": "white",
             "startlinecolor": "#2a3f5f"
            },
            "baxis": {
             "endlinecolor": "#2a3f5f",
             "gridcolor": "white",
             "linecolor": "white",
             "minorgridcolor": "white",
             "startlinecolor": "#2a3f5f"
            },
            "type": "carpet"
           }
          ],
          "choropleth": [
           {
            "colorbar": {
             "outlinewidth": 0,
             "ticks": ""
            },
            "type": "choropleth"
           }
          ],
          "contour": [
           {
            "colorbar": {
             "outlinewidth": 0,
             "ticks": ""
            },
            "colorscale": [
             [
              0,
              "#0d0887"
             ],
             [
              0.1111111111111111,
              "#46039f"
             ],
             [
              0.2222222222222222,
              "#7201a8"
             ],
             [
              0.3333333333333333,
              "#9c179e"
             ],
             [
              0.4444444444444444,
              "#bd3786"
             ],
             [
              0.5555555555555556,
              "#d8576b"
             ],
             [
              0.6666666666666666,
              "#ed7953"
             ],
             [
              0.7777777777777778,
              "#fb9f3a"
             ],
             [
              0.8888888888888888,
              "#fdca26"
             ],
             [
              1,
              "#f0f921"
             ]
            ],
            "type": "contour"
           }
          ],
          "contourcarpet": [
           {
            "colorbar": {
             "outlinewidth": 0,
             "ticks": ""
            },
            "type": "contourcarpet"
           }
          ],
          "heatmap": [
           {
            "colorbar": {
             "outlinewidth": 0,
             "ticks": ""
            },
            "colorscale": [
             [
              0,
              "#0d0887"
             ],
             [
              0.1111111111111111,
              "#46039f"
             ],
             [
              0.2222222222222222,
              "#7201a8"
             ],
             [
              0.3333333333333333,
              "#9c179e"
             ],
             [
              0.4444444444444444,
              "#bd3786"
             ],
             [
              0.5555555555555556,
              "#d8576b"
             ],
             [
              0.6666666666666666,
              "#ed7953"
             ],
             [
              0.7777777777777778,
              "#fb9f3a"
             ],
             [
              0.8888888888888888,
              "#fdca26"
             ],
             [
              1,
              "#f0f921"
             ]
            ],
            "type": "heatmap"
           }
          ],
          "heatmapgl": [
           {
            "colorbar": {
             "outlinewidth": 0,
             "ticks": ""
            },
            "colorscale": [
             [
              0,
              "#0d0887"
             ],
             [
              0.1111111111111111,
              "#46039f"
             ],
             [
              0.2222222222222222,
              "#7201a8"
             ],
             [
              0.3333333333333333,
              "#9c179e"
             ],
             [
              0.4444444444444444,
              "#bd3786"
             ],
             [
              0.5555555555555556,
              "#d8576b"
             ],
             [
              0.6666666666666666,
              "#ed7953"
             ],
             [
              0.7777777777777778,
              "#fb9f3a"
             ],
             [
              0.8888888888888888,
              "#fdca26"
             ],
             [
              1,
              "#f0f921"
             ]
            ],
            "type": "heatmapgl"
           }
          ],
          "histogram": [
           {
            "marker": {
             "pattern": {
              "fillmode": "overlay",
              "size": 10,
              "solidity": 0.2
             }
            },
            "type": "histogram"
           }
          ],
          "histogram2d": [
           {
            "colorbar": {
             "outlinewidth": 0,
             "ticks": ""
            },
            "colorscale": [
             [
              0,
              "#0d0887"
             ],
             [
              0.1111111111111111,
              "#46039f"
             ],
             [
              0.2222222222222222,
              "#7201a8"
             ],
             [
              0.3333333333333333,
              "#9c179e"
             ],
             [
              0.4444444444444444,
              "#bd3786"
             ],
             [
              0.5555555555555556,
              "#d8576b"
             ],
             [
              0.6666666666666666,
              "#ed7953"
             ],
             [
              0.7777777777777778,
              "#fb9f3a"
             ],
             [
              0.8888888888888888,
              "#fdca26"
             ],
             [
              1,
              "#f0f921"
             ]
            ],
            "type": "histogram2d"
           }
          ],
          "histogram2dcontour": [
           {
            "colorbar": {
             "outlinewidth": 0,
             "ticks": ""
            },
            "colorscale": [
             [
              0,
              "#0d0887"
             ],
             [
              0.1111111111111111,
              "#46039f"
             ],
             [
              0.2222222222222222,
              "#7201a8"
             ],
             [
              0.3333333333333333,
              "#9c179e"
             ],
             [
              0.4444444444444444,
              "#bd3786"
             ],
             [
              0.5555555555555556,
              "#d8576b"
             ],
             [
              0.6666666666666666,
              "#ed7953"
             ],
             [
              0.7777777777777778,
              "#fb9f3a"
             ],
             [
              0.8888888888888888,
              "#fdca26"
             ],
             [
              1,
              "#f0f921"
             ]
            ],
            "type": "histogram2dcontour"
           }
          ],
          "mesh3d": [
           {
            "colorbar": {
             "outlinewidth": 0,
             "ticks": ""
            },
            "type": "mesh3d"
           }
          ],
          "parcoords": [
           {
            "line": {
             "colorbar": {
              "outlinewidth": 0,
              "ticks": ""
             }
            },
            "type": "parcoords"
           }
          ],
          "pie": [
           {
            "automargin": true,
            "type": "pie"
           }
          ],
          "scatter": [
           {
            "marker": {
             "colorbar": {
              "outlinewidth": 0,
              "ticks": ""
             }
            },
            "type": "scatter"
           }
          ],
          "scatter3d": [
           {
            "line": {
             "colorbar": {
              "outlinewidth": 0,
              "ticks": ""
             }
            },
            "marker": {
             "colorbar": {
              "outlinewidth": 0,
              "ticks": ""
             }
            },
            "type": "scatter3d"
           }
          ],
          "scattercarpet": [
           {
            "marker": {
             "colorbar": {
              "outlinewidth": 0,
              "ticks": ""
             }
            },
            "type": "scattercarpet"
           }
          ],
          "scattergeo": [
           {
            "marker": {
             "colorbar": {
              "outlinewidth": 0,
              "ticks": ""
             }
            },
            "type": "scattergeo"
           }
          ],
          "scattergl": [
           {
            "marker": {
             "colorbar": {
              "outlinewidth": 0,
              "ticks": ""
             }
            },
            "type": "scattergl"
           }
          ],
          "scattermapbox": [
           {
            "marker": {
             "colorbar": {
              "outlinewidth": 0,
              "ticks": ""
             }
            },
            "type": "scattermapbox"
           }
          ],
          "scatterpolar": [
           {
            "marker": {
             "colorbar": {
              "outlinewidth": 0,
              "ticks": ""
             }
            },
            "type": "scatterpolar"
           }
          ],
          "scatterpolargl": [
           {
            "marker": {
             "colorbar": {
              "outlinewidth": 0,
              "ticks": ""
             }
            },
            "type": "scatterpolargl"
           }
          ],
          "scatterternary": [
           {
            "marker": {
             "colorbar": {
              "outlinewidth": 0,
              "ticks": ""
             }
            },
            "type": "scatterternary"
           }
          ],
          "surface": [
           {
            "colorbar": {
             "outlinewidth": 0,
             "ticks": ""
            },
            "colorscale": [
             [
              0,
              "#0d0887"
             ],
             [
              0.1111111111111111,
              "#46039f"
             ],
             [
              0.2222222222222222,
              "#7201a8"
             ],
             [
              0.3333333333333333,
              "#9c179e"
             ],
             [
              0.4444444444444444,
              "#bd3786"
             ],
             [
              0.5555555555555556,
              "#d8576b"
             ],
             [
              0.6666666666666666,
              "#ed7953"
             ],
             [
              0.7777777777777778,
              "#fb9f3a"
             ],
             [
              0.8888888888888888,
              "#fdca26"
             ],
             [
              1,
              "#f0f921"
             ]
            ],
            "type": "surface"
           }
          ],
          "table": [
           {
            "cells": {
             "fill": {
              "color": "#EBF0F8"
             },
             "line": {
              "color": "white"
             }
            },
            "header": {
             "fill": {
              "color": "#C8D4E3"
             },
             "line": {
              "color": "white"
             }
            },
            "type": "table"
           }
          ]
         },
         "layout": {
          "annotationdefaults": {
           "arrowcolor": "#2a3f5f",
           "arrowhead": 0,
           "arrowwidth": 1
          },
          "autotypenumbers": "strict",
          "coloraxis": {
           "colorbar": {
            "outlinewidth": 0,
            "ticks": ""
           }
          },
          "colorscale": {
           "diverging": [
            [
             0,
             "#8e0152"
            ],
            [
             0.1,
             "#c51b7d"
            ],
            [
             0.2,
             "#de77ae"
            ],
            [
             0.3,
             "#f1b6da"
            ],
            [
             0.4,
             "#fde0ef"
            ],
            [
             0.5,
             "#f7f7f7"
            ],
            [
             0.6,
             "#e6f5d0"
            ],
            [
             0.7,
             "#b8e186"
            ],
            [
             0.8,
             "#7fbc41"
            ],
            [
             0.9,
             "#4d9221"
            ],
            [
             1,
             "#276419"
            ]
           ],
           "sequential": [
            [
             0,
             "#0d0887"
            ],
            [
             0.1111111111111111,
             "#46039f"
            ],
            [
             0.2222222222222222,
             "#7201a8"
            ],
            [
             0.3333333333333333,
             "#9c179e"
            ],
            [
             0.4444444444444444,
             "#bd3786"
            ],
            [
             0.5555555555555556,
             "#d8576b"
            ],
            [
             0.6666666666666666,
             "#ed7953"
            ],
            [
             0.7777777777777778,
             "#fb9f3a"
            ],
            [
             0.8888888888888888,
             "#fdca26"
            ],
            [
             1,
             "#f0f921"
            ]
           ],
           "sequentialminus": [
            [
             0,
             "#0d0887"
            ],
            [
             0.1111111111111111,
             "#46039f"
            ],
            [
             0.2222222222222222,
             "#7201a8"
            ],
            [
             0.3333333333333333,
             "#9c179e"
            ],
            [
             0.4444444444444444,
             "#bd3786"
            ],
            [
             0.5555555555555556,
             "#d8576b"
            ],
            [
             0.6666666666666666,
             "#ed7953"
            ],
            [
             0.7777777777777778,
             "#fb9f3a"
            ],
            [
             0.8888888888888888,
             "#fdca26"
            ],
            [
             1,
             "#f0f921"
            ]
           ]
          },
          "colorway": [
           "#636efa",
           "#EF553B",
           "#00cc96",
           "#ab63fa",
           "#FFA15A",
           "#19d3f3",
           "#FF6692",
           "#B6E880",
           "#FF97FF",
           "#FECB52"
          ],
          "font": {
           "color": "#2a3f5f"
          },
          "geo": {
           "bgcolor": "white",
           "lakecolor": "white",
           "landcolor": "#E5ECF6",
           "showlakes": true,
           "showland": true,
           "subunitcolor": "white"
          },
          "hoverlabel": {
           "align": "left"
          },
          "hovermode": "closest",
          "mapbox": {
           "style": "light"
          },
          "paper_bgcolor": "white",
          "plot_bgcolor": "#E5ECF6",
          "polar": {
           "angularaxis": {
            "gridcolor": "white",
            "linecolor": "white",
            "ticks": ""
           },
           "bgcolor": "#E5ECF6",
           "radialaxis": {
            "gridcolor": "white",
            "linecolor": "white",
            "ticks": ""
           }
          },
          "scene": {
           "xaxis": {
            "backgroundcolor": "#E5ECF6",
            "gridcolor": "white",
            "gridwidth": 2,
            "linecolor": "white",
            "showbackground": true,
            "ticks": "",
            "zerolinecolor": "white"
           },
           "yaxis": {
            "backgroundcolor": "#E5ECF6",
            "gridcolor": "white",
            "gridwidth": 2,
            "linecolor": "white",
            "showbackground": true,
            "ticks": "",
            "zerolinecolor": "white"
           },
           "zaxis": {
            "backgroundcolor": "#E5ECF6",
            "gridcolor": "white",
            "gridwidth": 2,
            "linecolor": "white",
            "showbackground": true,
            "ticks": "",
            "zerolinecolor": "white"
           }
          },
          "shapedefaults": {
           "line": {
            "color": "#2a3f5f"
           }
          },
          "ternary": {
           "aaxis": {
            "gridcolor": "white",
            "linecolor": "white",
            "ticks": ""
           },
           "baxis": {
            "gridcolor": "white",
            "linecolor": "white",
            "ticks": ""
           },
           "bgcolor": "#E5ECF6",
           "caxis": {
            "gridcolor": "white",
            "linecolor": "white",
            "ticks": ""
           }
          },
          "title": {
           "x": 0.05
          },
          "xaxis": {
           "automargin": true,
           "gridcolor": "white",
           "linecolor": "white",
           "ticks": "",
           "title": {
            "standoff": 15
           },
           "zerolinecolor": "white",
           "zerolinewidth": 2
          },
          "yaxis": {
           "automargin": true,
           "gridcolor": "white",
           "linecolor": "white",
           "ticks": "",
           "title": {
            "standoff": 15
           },
           "zerolinecolor": "white",
           "zerolinewidth": 2
          }
         }
        },
        "title": {
         "text": "<b>Confusion matrix</b>"
        },
        "xaxis": {
         "autorange": true,
         "dtick": 1,
         "gridcolor": "rgb(0, 0, 0)",
         "range": [
          -0.5,
          1.5
         ],
         "side": "top",
         "ticks": "",
         "type": "category"
        },
        "yaxis": {
         "autorange": true,
         "dtick": 1,
         "range": [
          -0.5,
          1.5
         ],
         "ticks": "",
         "ticksuffix": "  ",
         "type": "category"
        }
       }
      },
      "image/png": "[encoded data removed]",
      "text/html": [
       "<div>                            <div id=\"383517ff-389a-4ee0-b75b-66929b503dd7\" class=\"plotly-graph-div\" style=\"height:525px; width:100%;\"></div>            <script type=\"text/javascript\">                require([\"plotly\"], function(Plotly) {                    window.PLOTLYENV=window.PLOTLYENV || {};                                    if (document.getElementById(\"383517ff-389a-4ee0-b75b-66929b503dd7\")) {                    Plotly.newPlot(                        \"383517ff-389a-4ee0-b75b-66929b503dd7\",                        [{\"colorscale\":[[0.0,\"#440154\"],[0.1111111111111111,\"#482878\"],[0.2222222222222222,\"#3e4989\"],[0.3333333333333333,\"#31688e\"],[0.4444444444444444,\"#26828e\"],[0.5555555555555556,\"#1f9e89\"],[0.6666666666666666,\"#35b779\"],[0.7777777777777778,\"#6ece58\"],[0.8888888888888888,\"#b5de2b\"],[1.0,\"#fde725\"]],\"reversescale\":false,\"showscale\":true,\"type\":\"heatmap\",\"x\":[\"NEGATIVE\",\"POSITIVE\"],\"y\":[\"POSITIVE\",\"NEGATIVE\"],\"z\":[[560,62],[599,59]]}],                        {\"annotations\":[{\"font\":{\"color\":\"#000000\"},\"showarrow\":false,\"text\":\"560\",\"x\":\"NEGATIVE\",\"xref\":\"x\",\"y\":\"POSITIVE\",\"yref\":\"y\"},{\"font\":{\"color\":\"#FFFFFF\"},\"showarrow\":false,\"text\":\"62\",\"x\":\"POSITIVE\",\"xref\":\"x\",\"y\":\"POSITIVE\",\"yref\":\"y\"},{\"font\":{\"color\":\"#000000\"},\"showarrow\":false,\"text\":\"599\",\"x\":\"NEGATIVE\",\"xref\":\"x\",\"y\":\"NEGATIVE\",\"yref\":\"y\"},{\"font\":{\"color\":\"#FFFFFF\"},\"showarrow\":false,\"text\":\"59\",\"x\":\"POSITIVE\",\"xref\":\"x\",\"y\":\"NEGATIVE\",\"yref\":\"y\"}],\"template\":{\"data\":{\"bar\":[{\"error_x\":{\"color\":\"#2a3f5f\"},\"error_y\":{\"color\":\"#2a3f5f\"},\"marker\":{\"line\":{\"color\":\"#E5ECF6\",\"width\":0.5},\"pattern\":{\"fillmode\":\"overlay\",\"size\":10,\"solidity\":0.2}},\"type\":\"bar\"}],\"barpolar\":[{\"marker\":{\"line\":{\"color\":\"#E5ECF6\",\"width\":0.5},\"pattern\":{\"fillmode\":\"overlay\",\"size\":10,\"solidity\":0.2}},\"type\":\"barpolar\"}],\"carpet\":[{\"aaxis\":{\"endlinecolor\":\"#2a3f5f\",\"gridcolor\":\"white\",\"linecolor\":\"white\",\"minorgridcolor\":\"white\",\"startlinecolor\":\"#2a3f5f\"},\"baxis\":{\"endlinecolor\":\"#2a3f5f\",\"gridcolor\":\"white\",\"linecolor\":\"white\",\"minorgridcolor\":\"white\",\"startlinecolor\":\"#2a3f5f\"},\"type\":\"carpet\"}],\"choropleth\":[{\"colorbar\":{\"outlinewidth\":0,\"ticks\":\"\"},\"type\":\"choropleth\"}],\"contour\":[{\"colorbar\":{\"outlinewidth\":0,\"ticks\":\"\"},\"colorscale\":[[0.0,\"#0d0887\"],[0.1111111111111111,\"#46039f\"],[0.2222222222222222,\"#7201a8\"],[0.3333333333333333,\"#9c179e\"],[0.4444444444444444,\"#bd3786\"],[0.5555555555555556,\"#d8576b\"],[0.6666666666666666,\"#ed7953\"],[0.7777777777777778,\"#fb9f3a\"],[0.8888888888888888,\"#fdca26\"],[1.0,\"#f0f921\"]],\"type\":\"contour\"}],\"contourcarpet\":[{\"colorbar\":{\"outlinewidth\":0,\"ticks\":\"\"},\"type\":\"contourcarpet\"}],\"heatmap\":[{\"colorbar\":{\"outlinewidth\":0,\"ticks\":\"\"},\"colorscale\":[[0.0,\"#0d0887\"],[0.1111111111111111,\"#46039f\"],[0.2222222222222222,\"#7201a8\"],[0.3333333333333333,\"#9c179e\"],[0.4444444444444444,\"#bd3786\"],[0.5555555555555556,\"#d8576b\"],[0.6666666666666666,\"#ed7953\"],[0.7777777777777778,\"#fb9f3a\"],[0.8888888888888888,\"#fdca26\"],[1.0,\"#f0f921\"]],\"type\":\"heatmap\"}],\"heatmapgl\":[{\"colorbar\":{\"outlinewidth\":0,\"ticks\":\"\"},\"colorscale\":[[0.0,\"#0d0887\"],[0.1111111111111111,\"#46039f\"],[0.2222222222222222,\"#7201a8\"],[0.3333333333333333,\"#9c179e\"],[0.4444444444444444,\"#bd3786\"],[0.5555555555555556,\"#d8576b\"],[0.6666666666666666,\"#ed7953\"],[0.7777777777777778,\"#fb9f3a\"],[0.8888888888888888,\"#fdca26\"],[1.0,\"#f0f921\"]],\"type\":\"heatmapgl\"}],\"histogram\":[{\"marker\":{\"pattern\":{\"fillmode\":\"overlay\",\"size\":10,\"solidity\":0.2}},\"type\":\"histogram\"}],\"histogram2d\":[{\"colorbar\":{\"outlinewidth\":0,\"ticks\":\"\"},\"colorscale\":[[0.0,\"#0d0887\"],[0.1111111111111111,\"#46039f\"],[0.2222222222222222,\"#7201a8\"],[0.3333333333333333,\"#9c179e\"],[0.4444444444444444,\"#bd3786\"],[0.5555555555555556,\"#d8576b\"],[0.6666666666666666,\"#ed7953\"],[0.7777777777777778,\"#fb9f3a\"],[0.8888888888888888,\"#fdca26\"],[1.0,\"#f0f921\"]],\"type\":\"histogram2d\"}],\"histogram2dcontour\":[{\"colorbar\":{\"outlinewidth\":0,\"ticks\":\"\"},\"colorscale\":[[0.0,\"#0d0887\"],[0.1111111111111111,\"#46039f\"],[0.2222222222222222,\"#7201a8\"],[0.3333333333333333,\"#9c179e\"],[0.4444444444444444,\"#bd3786\"],[0.5555555555555556,\"#d8576b\"],[0.6666666666666666,\"#ed7953\"],[0.7777777777777778,\"#fb9f3a\"],[0.8888888888888888,\"#fdca26\"],[1.0,\"#f0f921\"]],\"type\":\"histogram2dcontour\"}],\"mesh3d\":[{\"colorbar\":{\"outlinewidth\":0,\"ticks\":\"\"},\"type\":\"mesh3d\"}],\"parcoords\":[{\"line\":{\"colorbar\":{\"outlinewidth\":0,\"ticks\":\"\"}},\"type\":\"parcoords\"}],\"pie\":[{\"automargin\":true,\"type\":\"pie\"}],\"scatter\":[{\"marker\":{\"colorbar\":{\"outlinewidth\":0,\"ticks\":\"\"}},\"type\":\"scatter\"}],\"scatter3d\":[{\"line\":{\"colorbar\":{\"outlinewidth\":0,\"ticks\":\"\"}},\"marker\":{\"colorbar\":{\"outlinewidth\":0,\"ticks\":\"\"}},\"type\":\"scatter3d\"}],\"scattercarpet\":[{\"marker\":{\"colorbar\":{\"outlinewidth\":0,\"ticks\":\"\"}},\"type\":\"scattercarpet\"}],\"scattergeo\":[{\"marker\":{\"colorbar\":{\"outlinewidth\":0,\"ticks\":\"\"}},\"type\":\"scattergeo\"}],\"scattergl\":[{\"marker\":{\"colorbar\":{\"outlinewidth\":0,\"ticks\":\"\"}},\"type\":\"scattergl\"}],\"scattermapbox\":[{\"marker\":{\"colorbar\":{\"outlinewidth\":0,\"ticks\":\"\"}},\"type\":\"scattermapbox\"}],\"scatterpolar\":[{\"marker\":{\"colorbar\":{\"outlinewidth\":0,\"ticks\":\"\"}},\"type\":\"scatterpolar\"}],\"scatterpolargl\":[{\"marker\":{\"colorbar\":{\"outlinewidth\":0,\"ticks\":\"\"}},\"type\":\"scatterpolargl\"}],\"scatterternary\":[{\"marker\":{\"colorbar\":{\"outlinewidth\":0,\"ticks\":\"\"}},\"type\":\"scatterternary\"}],\"surface\":[{\"colorbar\":{\"outlinewidth\":0,\"ticks\":\"\"},\"colorscale\":[[0.0,\"#0d0887\"],[0.1111111111111111,\"#46039f\"],[0.2222222222222222,\"#7201a8\"],[0.3333333333333333,\"#9c179e\"],[0.4444444444444444,\"#bd3786\"],[0.5555555555555556,\"#d8576b\"],[0.6666666666666666,\"#ed7953\"],[0.7777777777777778,\"#fb9f3a\"],[0.8888888888888888,\"#fdca26\"],[1.0,\"#f0f921\"]],\"type\":\"surface\"}],\"table\":[{\"cells\":{\"fill\":{\"color\":\"#EBF0F8\"},\"line\":{\"color\":\"white\"}},\"header\":{\"fill\":{\"color\":\"#C8D4E3\"},\"line\":{\"color\":\"white\"}},\"type\":\"table\"}]},\"layout\":{\"annotationdefaults\":{\"arrowcolor\":\"#2a3f5f\",\"arrowhead\":0,\"arrowwidth\":1},\"autotypenumbers\":\"strict\",\"coloraxis\":{\"colorbar\":{\"outlinewidth\":0,\"ticks\":\"\"}},\"colorscale\":{\"diverging\":[[0,\"#8e0152\"],[0.1,\"#c51b7d\"],[0.2,\"#de77ae\"],[0.3,\"#f1b6da\"],[0.4,\"#fde0ef\"],[0.5,\"#f7f7f7\"],[0.6,\"#e6f5d0\"],[0.7,\"#b8e186\"],[0.8,\"#7fbc41\"],[0.9,\"#4d9221\"],[1,\"#276419\"]],\"sequential\":[[0.0,\"#0d0887\"],[0.1111111111111111,\"#46039f\"],[0.2222222222222222,\"#7201a8\"],[0.3333333333333333,\"#9c179e\"],[0.4444444444444444,\"#bd3786\"],[0.5555555555555556,\"#d8576b\"],[0.6666666666666666,\"#ed7953\"],[0.7777777777777778,\"#fb9f3a\"],[0.8888888888888888,\"#fdca26\"],[1.0,\"#f0f921\"]],\"sequentialminus\":[[0.0,\"#0d0887\"],[0.1111111111111111,\"#46039f\"],[0.2222222222222222,\"#7201a8\"],[0.3333333333333333,\"#9c179e\"],[0.4444444444444444,\"#bd3786\"],[0.5555555555555556,\"#d8576b\"],[0.6666666666666666,\"#ed7953\"],[0.7777777777777778,\"#fb9f3a\"],[0.8888888888888888,\"#fdca26\"],[1.0,\"#f0f921\"]]},\"colorway\":[\"#636efa\",\"#EF553B\",\"#00cc96\",\"#ab63fa\",\"#FFA15A\",\"#19d3f3\",\"#FF6692\",\"#B6E880\",\"#FF97FF\",\"#FECB52\"],\"font\":{\"color\":\"#2a3f5f\"},\"geo\":{\"bgcolor\":\"white\",\"lakecolor\":\"white\",\"landcolor\":\"#E5ECF6\",\"showlakes\":true,\"showland\":true,\"subunitcolor\":\"white\"},\"hoverlabel\":{\"align\":\"left\"},\"hovermode\":\"closest\",\"mapbox\":{\"style\":\"light\"},\"paper_bgcolor\":\"white\",\"plot_bgcolor\":\"#E5ECF6\",\"polar\":{\"angularaxis\":{\"gridcolor\":\"white\",\"linecolor\":\"white\",\"ticks\":\"\"},\"bgcolor\":\"#E5ECF6\",\"radialaxis\":{\"gridcolor\":\"white\",\"linecolor\":\"white\",\"ticks\":\"\"}},\"scene\":{\"xaxis\":{\"backgroundcolor\":\"#E5ECF6\",\"gridcolor\":\"white\",\"gridwidth\":2,\"linecolor\":\"white\",\"showbackground\":true,\"ticks\":\"\",\"zerolinecolor\":\"white\"},\"yaxis\":{\"backgroundcolor\":\"#E5ECF6\",\"gridcolor\":\"white\",\"gridwidth\":2,\"linecolor\":\"white\",\"showbackground\":true,\"ticks\":\"\",\"zerolinecolor\":\"white\"},\"zaxis\":{\"backgroundcolor\":\"#E5ECF6\",\"gridcolor\":\"white\",\"gridwidth\":2,\"linecolor\":\"white\",\"showbackground\":true,\"ticks\":\"\",\"zerolinecolor\":\"white\"}},\"shapedefaults\":{\"line\":{\"color\":\"#2a3f5f\"}},\"ternary\":{\"aaxis\":{\"gridcolor\":\"white\",\"linecolor\":\"white\",\"ticks\":\"\"},\"baxis\":{\"gridcolor\":\"white\",\"linecolor\":\"white\",\"ticks\":\"\"},\"bgcolor\":\"#E5ECF6\",\"caxis\":{\"gridcolor\":\"white\",\"linecolor\":\"white\",\"ticks\":\"\"}},\"title\":{\"x\":0.05},\"xaxis\":{\"automargin\":true,\"gridcolor\":\"white\",\"linecolor\":\"white\",\"ticks\":\"\",\"title\":{\"standoff\":15},\"zerolinecolor\":\"white\",\"zerolinewidth\":2},\"yaxis\":{\"automargin\":true,\"gridcolor\":\"white\",\"linecolor\":\"white\",\"ticks\":\"\",\"title\":{\"standoff\":15},\"zerolinecolor\":\"white\",\"zerolinewidth\":2}}},\"title\":{\"text\":\"<b>Confusion matrix</b>\"},\"xaxis\":{\"dtick\":1,\"gridcolor\":\"rgb(0, 0, 0)\",\"side\":\"top\",\"ticks\":\"\"},\"yaxis\":{\"dtick\":1,\"ticks\":\"\",\"ticksuffix\":\"  \"}},                        {\"responsive\": true}                    ).then(function(){\n",
       "                            \n",
       "var gd = document.getElementById('383517ff-389a-4ee0-b75b-66929b503dd7');\n",
       "var x = new MutationObserver(function (mutations, observer) {{\n",
       "        var display = window.getComputedStyle(gd).display;\n",
       "        if (!display || display === 'none') {{\n",
       "            console.log([gd, 'removed!']);\n",
       "            Plotly.purge(gd);\n",
       "            observer.disconnect();\n",
       "        }}\n",
       "}});\n",
       "\n",
       "// Listen for the removal of the full notebook cells\n",
       "var notebookContainer = gd.closest('#notebook-container');\n",
       "if (notebookContainer) {{\n",
       "    x.observe(notebookContainer, {childList: true});\n",
       "}}\n",
       "\n",
       "// Listen for the clearing of the current output cell\n",
       "var outputEl = gd.closest('.output');\n",
       "if (outputEl) {{\n",
       "    x.observe(outputEl, {childList: true});\n",
       "}}\n",
       "\n",
       "                        })                };                });            </script>        </div>"
      ]
     },
     "metadata": {},
     "output_type": "display_data"
    }
   ],
   "source": [
    "x_axes = ['NEGATIVE', 'POSITIVE']\n",
    "y_axes = ['POSITIVE', 'NEGATIVE']  \n",
    "\n",
    "def conf_matrix(z, x=x_axes, y=y_axes):\n",
    "    \n",
    "    z = np.flip(z, 0)\n",
    "\n",
    "    # change each element of z to type string for annotations\n",
    "    z_text = [[str(y) for y in x] for x in z]\n",
    "\n",
    "    # set up figure \n",
    "    fig = ff.create_annotated_heatmap(z, x=x, y=y, annotation_text=z_text, colorscale='Viridis')\n",
    "\n",
    "    # add title\n",
    "    fig.update_layout(title_text='<b>Confusion matrix</b>',\n",
    "                      xaxis = {},\n",
    "                      yaxis = {}\n",
    "                     )\n",
    "\n",
    "    # add colorbar\n",
    "    fig['data'][0]['showscale'] = True\n",
    "    \n",
    "    return fig\n",
    "\n",
    "y_preds = (model.predict(X_val) > 0.5).astype(\"int32\")\n",
    "target_names = ['NEGATIVE', 'POSITIVE']\n",
    "print(classification_report(y_val, y_preds, target_names=target_names))\n",
    "print(\"ROC AUC score : \", round(roc_auc_score(y_val, y_preds), 3))\n",
    "print(\"Average Precision score : \", round(average_precision_score(y_val, y_preds), 3),)\n",
    "conf_matrix(metrics.confusion_matrix(y_val, y_preds))"
   ]
  },
  {
   "cell_type": "code",
   "execution_count": 47,
   "id": "27b22519-9daa-448d-a193-f3fd965fdc64",
   "metadata": {},
   "outputs": [
    {
     "name": "stdout",
     "output_type": "stream",
     "text": [
      "              precision    recall  f1-score   support\n",
      "\n",
      "    NEGATIVE       0.50      0.89      0.64      1608\n",
      "    POSITIVE       0.48      0.10      0.17      1592\n",
      "\n",
      "    accuracy                           0.50      3200\n",
      "   macro avg       0.49      0.50      0.40      3200\n",
      "weighted avg       0.49      0.50      0.41      3200\n",
      "\n",
      "ROC AUC score :  0.497\n",
      "Average Precision score :  0.496\n"
     ]
    },
    {
     "data": {
      "application/vnd.plotly.v1+json": {
       "config": {
        "plotlyServerURL": "https://plot.ly"
       },
       "data": [
        {
         "colorscale": [
          [
           0,
           "#440154"
          ],
          [
           0.1111111111111111,
           "#482878"
          ],
          [
           0.2222222222222222,
           "#3e4989"
          ],
          [
           0.3333333333333333,
           "#31688e"
          ],
          [
           0.4444444444444444,
           "#26828e"
          ],
          [
           0.5555555555555556,
           "#1f9e89"
          ],
          [
           0.6666666666666666,
           "#35b779"
          ],
          [
           0.7777777777777778,
           "#6ece58"
          ],
          [
           0.8888888888888888,
           "#b5de2b"
          ],
          [
           1,
           "#fde725"
          ]
         ],
         "reversescale": false,
         "showscale": true,
         "type": "heatmap",
         "x": [
          "NEGATIVE",
          "POSITIVE"
         ],
         "y": [
          "POSITIVE",
          "NEGATIVE"
         ],
         "z": [
          [
           1433,
           159
          ],
          [
           1439,
           169
          ]
         ]
        }
       ],
       "layout": {
        "annotations": [
         {
          "font": {
           "color": "#000000"
          },
          "showarrow": false,
          "text": "1433",
          "x": "NEGATIVE",
          "xref": "x",
          "y": "POSITIVE",
          "yref": "y"
         },
         {
          "font": {
           "color": "#FFFFFF"
          },
          "showarrow": false,
          "text": "159",
          "x": "POSITIVE",
          "xref": "x",
          "y": "POSITIVE",
          "yref": "y"
         },
         {
          "font": {
           "color": "#000000"
          },
          "showarrow": false,
          "text": "1439",
          "x": "NEGATIVE",
          "xref": "x",
          "y": "NEGATIVE",
          "yref": "y"
         },
         {
          "font": {
           "color": "#FFFFFF"
          },
          "showarrow": false,
          "text": "169",
          "x": "POSITIVE",
          "xref": "x",
          "y": "NEGATIVE",
          "yref": "y"
         }
        ],
        "autosize": true,
        "template": {
         "data": {
          "bar": [
           {
            "error_x": {
             "color": "#2a3f5f"
            },
            "error_y": {
             "color": "#2a3f5f"
            },
            "marker": {
             "line": {
              "color": "#E5ECF6",
              "width": 0.5
             },
             "pattern": {
              "fillmode": "overlay",
              "size": 10,
              "solidity": 0.2
             }
            },
            "type": "bar"
           }
          ],
          "barpolar": [
           {
            "marker": {
             "line": {
              "color": "#E5ECF6",
              "width": 0.5
             },
             "pattern": {
              "fillmode": "overlay",
              "size": 10,
              "solidity": 0.2
             }
            },
            "type": "barpolar"
           }
          ],
          "carpet": [
           {
            "aaxis": {
             "endlinecolor": "#2a3f5f",
             "gridcolor": "white",
             "linecolor": "white",
             "minorgridcolor": "white",
             "startlinecolor": "#2a3f5f"
            },
            "baxis": {
             "endlinecolor": "#2a3f5f",
             "gridcolor": "white",
             "linecolor": "white",
             "minorgridcolor": "white",
             "startlinecolor": "#2a3f5f"
            },
            "type": "carpet"
           }
          ],
          "choropleth": [
           {
            "colorbar": {
             "outlinewidth": 0,
             "ticks": ""
            },
            "type": "choropleth"
           }
          ],
          "contour": [
           {
            "colorbar": {
             "outlinewidth": 0,
             "ticks": ""
            },
            "colorscale": [
             [
              0,
              "#0d0887"
             ],
             [
              0.1111111111111111,
              "#46039f"
             ],
             [
              0.2222222222222222,
              "#7201a8"
             ],
             [
              0.3333333333333333,
              "#9c179e"
             ],
             [
              0.4444444444444444,
              "#bd3786"
             ],
             [
              0.5555555555555556,
              "#d8576b"
             ],
             [
              0.6666666666666666,
              "#ed7953"
             ],
             [
              0.7777777777777778,
              "#fb9f3a"
             ],
             [
              0.8888888888888888,
              "#fdca26"
             ],
             [
              1,
              "#f0f921"
             ]
            ],
            "type": "contour"
           }
          ],
          "contourcarpet": [
           {
            "colorbar": {
             "outlinewidth": 0,
             "ticks": ""
            },
            "type": "contourcarpet"
           }
          ],
          "heatmap": [
           {
            "colorbar": {
             "outlinewidth": 0,
             "ticks": ""
            },
            "colorscale": [
             [
              0,
              "#0d0887"
             ],
             [
              0.1111111111111111,
              "#46039f"
             ],
             [
              0.2222222222222222,
              "#7201a8"
             ],
             [
              0.3333333333333333,
              "#9c179e"
             ],
             [
              0.4444444444444444,
              "#bd3786"
             ],
             [
              0.5555555555555556,
              "#d8576b"
             ],
             [
              0.6666666666666666,
              "#ed7953"
             ],
             [
              0.7777777777777778,
              "#fb9f3a"
             ],
             [
              0.8888888888888888,
              "#fdca26"
             ],
             [
              1,
              "#f0f921"
             ]
            ],
            "type": "heatmap"
           }
          ],
          "heatmapgl": [
           {
            "colorbar": {
             "outlinewidth": 0,
             "ticks": ""
            },
            "colorscale": [
             [
              0,
              "#0d0887"
             ],
             [
              0.1111111111111111,
              "#46039f"
             ],
             [
              0.2222222222222222,
              "#7201a8"
             ],
             [
              0.3333333333333333,
              "#9c179e"
             ],
             [
              0.4444444444444444,
              "#bd3786"
             ],
             [
              0.5555555555555556,
              "#d8576b"
             ],
             [
              0.6666666666666666,
              "#ed7953"
             ],
             [
              0.7777777777777778,
              "#fb9f3a"
             ],
             [
              0.8888888888888888,
              "#fdca26"
             ],
             [
              1,
              "#f0f921"
             ]
            ],
            "type": "heatmapgl"
           }
          ],
          "histogram": [
           {
            "marker": {
             "pattern": {
              "fillmode": "overlay",
              "size": 10,
              "solidity": 0.2
             }
            },
            "type": "histogram"
           }
          ],
          "histogram2d": [
           {
            "colorbar": {
             "outlinewidth": 0,
             "ticks": ""
            },
            "colorscale": [
             [
              0,
              "#0d0887"
             ],
             [
              0.1111111111111111,
              "#46039f"
             ],
             [
              0.2222222222222222,
              "#7201a8"
             ],
             [
              0.3333333333333333,
              "#9c179e"
             ],
             [
              0.4444444444444444,
              "#bd3786"
             ],
             [
              0.5555555555555556,
              "#d8576b"
             ],
             [
              0.6666666666666666,
              "#ed7953"
             ],
             [
              0.7777777777777778,
              "#fb9f3a"
             ],
             [
              0.8888888888888888,
              "#fdca26"
             ],
             [
              1,
              "#f0f921"
             ]
            ],
            "type": "histogram2d"
           }
          ],
          "histogram2dcontour": [
           {
            "colorbar": {
             "outlinewidth": 0,
             "ticks": ""
            },
            "colorscale": [
             [
              0,
              "#0d0887"
             ],
             [
              0.1111111111111111,
              "#46039f"
             ],
             [
              0.2222222222222222,
              "#7201a8"
             ],
             [
              0.3333333333333333,
              "#9c179e"
             ],
             [
              0.4444444444444444,
              "#bd3786"
             ],
             [
              0.5555555555555556,
              "#d8576b"
             ],
             [
              0.6666666666666666,
              "#ed7953"
             ],
             [
              0.7777777777777778,
              "#fb9f3a"
             ],
             [
              0.8888888888888888,
              "#fdca26"
             ],
             [
              1,
              "#f0f921"
             ]
            ],
            "type": "histogram2dcontour"
           }
          ],
          "mesh3d": [
           {
            "colorbar": {
             "outlinewidth": 0,
             "ticks": ""
            },
            "type": "mesh3d"
           }
          ],
          "parcoords": [
           {
            "line": {
             "colorbar": {
              "outlinewidth": 0,
              "ticks": ""
             }
            },
            "type": "parcoords"
           }
          ],
          "pie": [
           {
            "automargin": true,
            "type": "pie"
           }
          ],
          "scatter": [
           {
            "marker": {
             "colorbar": {
              "outlinewidth": 0,
              "ticks": ""
             }
            },
            "type": "scatter"
           }
          ],
          "scatter3d": [
           {
            "line": {
             "colorbar": {
              "outlinewidth": 0,
              "ticks": ""
             }
            },
            "marker": {
             "colorbar": {
              "outlinewidth": 0,
              "ticks": ""
             }
            },
            "type": "scatter3d"
           }
          ],
          "scattercarpet": [
           {
            "marker": {
             "colorbar": {
              "outlinewidth": 0,
              "ticks": ""
             }
            },
            "type": "scattercarpet"
           }
          ],
          "scattergeo": [
           {
            "marker": {
             "colorbar": {
              "outlinewidth": 0,
              "ticks": ""
             }
            },
            "type": "scattergeo"
           }
          ],
          "scattergl": [
           {
            "marker": {
             "colorbar": {
              "outlinewidth": 0,
              "ticks": ""
             }
            },
            "type": "scattergl"
           }
          ],
          "scattermapbox": [
           {
            "marker": {
             "colorbar": {
              "outlinewidth": 0,
              "ticks": ""
             }
            },
            "type": "scattermapbox"
           }
          ],
          "scatterpolar": [
           {
            "marker": {
             "colorbar": {
              "outlinewidth": 0,
              "ticks": ""
             }
            },
            "type": "scatterpolar"
           }
          ],
          "scatterpolargl": [
           {
            "marker": {
             "colorbar": {
              "outlinewidth": 0,
              "ticks": ""
             }
            },
            "type": "scatterpolargl"
           }
          ],
          "scatterternary": [
           {
            "marker": {
             "colorbar": {
              "outlinewidth": 0,
              "ticks": ""
             }
            },
            "type": "scatterternary"
           }
          ],
          "surface": [
           {
            "colorbar": {
             "outlinewidth": 0,
             "ticks": ""
            },
            "colorscale": [
             [
              0,
              "#0d0887"
             ],
             [
              0.1111111111111111,
              "#46039f"
             ],
             [
              0.2222222222222222,
              "#7201a8"
             ],
             [
              0.3333333333333333,
              "#9c179e"
             ],
             [
              0.4444444444444444,
              "#bd3786"
             ],
             [
              0.5555555555555556,
              "#d8576b"
             ],
             [
              0.6666666666666666,
              "#ed7953"
             ],
             [
              0.7777777777777778,
              "#fb9f3a"
             ],
             [
              0.8888888888888888,
              "#fdca26"
             ],
             [
              1,
              "#f0f921"
             ]
            ],
            "type": "surface"
           }
          ],
          "table": [
           {
            "cells": {
             "fill": {
              "color": "#EBF0F8"
             },
             "line": {
              "color": "white"
             }
            },
            "header": {
             "fill": {
              "color": "#C8D4E3"
             },
             "line": {
              "color": "white"
             }
            },
            "type": "table"
           }
          ]
         },
         "layout": {
          "annotationdefaults": {
           "arrowcolor": "#2a3f5f",
           "arrowhead": 0,
           "arrowwidth": 1
          },
          "autotypenumbers": "strict",
          "coloraxis": {
           "colorbar": {
            "outlinewidth": 0,
            "ticks": ""
           }
          },
          "colorscale": {
           "diverging": [
            [
             0,
             "#8e0152"
            ],
            [
             0.1,
             "#c51b7d"
            ],
            [
             0.2,
             "#de77ae"
            ],
            [
             0.3,
             "#f1b6da"
            ],
            [
             0.4,
             "#fde0ef"
            ],
            [
             0.5,
             "#f7f7f7"
            ],
            [
             0.6,
             "#e6f5d0"
            ],
            [
             0.7,
             "#b8e186"
            ],
            [
             0.8,
             "#7fbc41"
            ],
            [
             0.9,
             "#4d9221"
            ],
            [
             1,
             "#276419"
            ]
           ],
           "sequential": [
            [
             0,
             "#0d0887"
            ],
            [
             0.1111111111111111,
             "#46039f"
            ],
            [
             0.2222222222222222,
             "#7201a8"
            ],
            [
             0.3333333333333333,
             "#9c179e"
            ],
            [
             0.4444444444444444,
             "#bd3786"
            ],
            [
             0.5555555555555556,
             "#d8576b"
            ],
            [
             0.6666666666666666,
             "#ed7953"
            ],
            [
             0.7777777777777778,
             "#fb9f3a"
            ],
            [
             0.8888888888888888,
             "#fdca26"
            ],
            [
             1,
             "#f0f921"
            ]
           ],
           "sequentialminus": [
            [
             0,
             "#0d0887"
            ],
            [
             0.1111111111111111,
             "#46039f"
            ],
            [
             0.2222222222222222,
             "#7201a8"
            ],
            [
             0.3333333333333333,
             "#9c179e"
            ],
            [
             0.4444444444444444,
             "#bd3786"
            ],
            [
             0.5555555555555556,
             "#d8576b"
            ],
            [
             0.6666666666666666,
             "#ed7953"
            ],
            [
             0.7777777777777778,
             "#fb9f3a"
            ],
            [
             0.8888888888888888,
             "#fdca26"
            ],
            [
             1,
             "#f0f921"
            ]
           ]
          },
          "colorway": [
           "#636efa",
           "#EF553B",
           "#00cc96",
           "#ab63fa",
           "#FFA15A",
           "#19d3f3",
           "#FF6692",
           "#B6E880",
           "#FF97FF",
           "#FECB52"
          ],
          "font": {
           "color": "#2a3f5f"
          },
          "geo": {
           "bgcolor": "white",
           "lakecolor": "white",
           "landcolor": "#E5ECF6",
           "showlakes": true,
           "showland": true,
           "subunitcolor": "white"
          },
          "hoverlabel": {
           "align": "left"
          },
          "hovermode": "closest",
          "mapbox": {
           "style": "light"
          },
          "paper_bgcolor": "white",
          "plot_bgcolor": "#E5ECF6",
          "polar": {
           "angularaxis": {
            "gridcolor": "white",
            "linecolor": "white",
            "ticks": ""
           },
           "bgcolor": "#E5ECF6",
           "radialaxis": {
            "gridcolor": "white",
            "linecolor": "white",
            "ticks": ""
           }
          },
          "scene": {
           "xaxis": {
            "backgroundcolor": "#E5ECF6",
            "gridcolor": "white",
            "gridwidth": 2,
            "linecolor": "white",
            "showbackground": true,
            "ticks": "",
            "zerolinecolor": "white"
           },
           "yaxis": {
            "backgroundcolor": "#E5ECF6",
            "gridcolor": "white",
            "gridwidth": 2,
            "linecolor": "white",
            "showbackground": true,
            "ticks": "",
            "zerolinecolor": "white"
           },
           "zaxis": {
            "backgroundcolor": "#E5ECF6",
            "gridcolor": "white",
            "gridwidth": 2,
            "linecolor": "white",
            "showbackground": true,
            "ticks": "",
            "zerolinecolor": "white"
           }
          },
          "shapedefaults": {
           "line": {
            "color": "#2a3f5f"
           }
          },
          "ternary": {
           "aaxis": {
            "gridcolor": "white",
            "linecolor": "white",
            "ticks": ""
           },
           "baxis": {
            "gridcolor": "white",
            "linecolor": "white",
            "ticks": ""
           },
           "bgcolor": "#E5ECF6",
           "caxis": {
            "gridcolor": "white",
            "linecolor": "white",
            "ticks": ""
           }
          },
          "title": {
           "x": 0.05
          },
          "xaxis": {
           "automargin": true,
           "gridcolor": "white",
           "linecolor": "white",
           "ticks": "",
           "title": {
            "standoff": 15
           },
           "zerolinecolor": "white",
           "zerolinewidth": 2
          },
          "yaxis": {
           "automargin": true,
           "gridcolor": "white",
           "linecolor": "white",
           "ticks": "",
           "title": {
            "standoff": 15
           },
           "zerolinecolor": "white",
           "zerolinewidth": 2
          }
         }
        },
        "title": {
         "text": "<b>Confusion matrix</b>"
        },
        "xaxis": {
         "autorange": true,
         "dtick": 1,
         "gridcolor": "rgb(0, 0, 0)",
         "range": [
          -0.5,
          1.5
         ],
         "side": "top",
         "ticks": "",
         "type": "category"
        },
        "yaxis": {
         "autorange": true,
         "dtick": 1,
         "range": [
          -0.5,
          1.5
         ],
         "ticks": "",
         "ticksuffix": "  ",
         "type": "category"
        }
       }
      },
      "image/png": "[encoded data removed]",
      "text/html": [
       "<div>                            <div id=\"8947cea6-1fdd-4950-8fd5-57aac0d22c62\" class=\"plotly-graph-div\" style=\"height:525px; width:100%;\"></div>            <script type=\"text/javascript\">                require([\"plotly\"], function(Plotly) {                    window.PLOTLYENV=window.PLOTLYENV || {};                                    if (document.getElementById(\"8947cea6-1fdd-4950-8fd5-57aac0d22c62\")) {                    Plotly.newPlot(                        \"8947cea6-1fdd-4950-8fd5-57aac0d22c62\",                        [{\"colorscale\":[[0.0,\"#440154\"],[0.1111111111111111,\"#482878\"],[0.2222222222222222,\"#3e4989\"],[0.3333333333333333,\"#31688e\"],[0.4444444444444444,\"#26828e\"],[0.5555555555555556,\"#1f9e89\"],[0.6666666666666666,\"#35b779\"],[0.7777777777777778,\"#6ece58\"],[0.8888888888888888,\"#b5de2b\"],[1.0,\"#fde725\"]],\"reversescale\":false,\"showscale\":true,\"type\":\"heatmap\",\"x\":[\"NEGATIVE\",\"POSITIVE\"],\"y\":[\"POSITIVE\",\"NEGATIVE\"],\"z\":[[1433,159],[1439,169]]}],                        {\"annotations\":[{\"font\":{\"color\":\"#000000\"},\"showarrow\":false,\"text\":\"1433\",\"x\":\"NEGATIVE\",\"xref\":\"x\",\"y\":\"POSITIVE\",\"yref\":\"y\"},{\"font\":{\"color\":\"#FFFFFF\"},\"showarrow\":false,\"text\":\"159\",\"x\":\"POSITIVE\",\"xref\":\"x\",\"y\":\"POSITIVE\",\"yref\":\"y\"},{\"font\":{\"color\":\"#000000\"},\"showarrow\":false,\"text\":\"1439\",\"x\":\"NEGATIVE\",\"xref\":\"x\",\"y\":\"NEGATIVE\",\"yref\":\"y\"},{\"font\":{\"color\":\"#FFFFFF\"},\"showarrow\":false,\"text\":\"169\",\"x\":\"POSITIVE\",\"xref\":\"x\",\"y\":\"NEGATIVE\",\"yref\":\"y\"}],\"template\":{\"data\":{\"bar\":[{\"error_x\":{\"color\":\"#2a3f5f\"},\"error_y\":{\"color\":\"#2a3f5f\"},\"marker\":{\"line\":{\"color\":\"#E5ECF6\",\"width\":0.5},\"pattern\":{\"fillmode\":\"overlay\",\"size\":10,\"solidity\":0.2}},\"type\":\"bar\"}],\"barpolar\":[{\"marker\":{\"line\":{\"color\":\"#E5ECF6\",\"width\":0.5},\"pattern\":{\"fillmode\":\"overlay\",\"size\":10,\"solidity\":0.2}},\"type\":\"barpolar\"}],\"carpet\":[{\"aaxis\":{\"endlinecolor\":\"#2a3f5f\",\"gridcolor\":\"white\",\"linecolor\":\"white\",\"minorgridcolor\":\"white\",\"startlinecolor\":\"#2a3f5f\"},\"baxis\":{\"endlinecolor\":\"#2a3f5f\",\"gridcolor\":\"white\",\"linecolor\":\"white\",\"minorgridcolor\":\"white\",\"startlinecolor\":\"#2a3f5f\"},\"type\":\"carpet\"}],\"choropleth\":[{\"colorbar\":{\"outlinewidth\":0,\"ticks\":\"\"},\"type\":\"choropleth\"}],\"contour\":[{\"colorbar\":{\"outlinewidth\":0,\"ticks\":\"\"},\"colorscale\":[[0.0,\"#0d0887\"],[0.1111111111111111,\"#46039f\"],[0.2222222222222222,\"#7201a8\"],[0.3333333333333333,\"#9c179e\"],[0.4444444444444444,\"#bd3786\"],[0.5555555555555556,\"#d8576b\"],[0.6666666666666666,\"#ed7953\"],[0.7777777777777778,\"#fb9f3a\"],[0.8888888888888888,\"#fdca26\"],[1.0,\"#f0f921\"]],\"type\":\"contour\"}],\"contourcarpet\":[{\"colorbar\":{\"outlinewidth\":0,\"ticks\":\"\"},\"type\":\"contourcarpet\"}],\"heatmap\":[{\"colorbar\":{\"outlinewidth\":0,\"ticks\":\"\"},\"colorscale\":[[0.0,\"#0d0887\"],[0.1111111111111111,\"#46039f\"],[0.2222222222222222,\"#7201a8\"],[0.3333333333333333,\"#9c179e\"],[0.4444444444444444,\"#bd3786\"],[0.5555555555555556,\"#d8576b\"],[0.6666666666666666,\"#ed7953\"],[0.7777777777777778,\"#fb9f3a\"],[0.8888888888888888,\"#fdca26\"],[1.0,\"#f0f921\"]],\"type\":\"heatmap\"}],\"heatmapgl\":[{\"colorbar\":{\"outlinewidth\":0,\"ticks\":\"\"},\"colorscale\":[[0.0,\"#0d0887\"],[0.1111111111111111,\"#46039f\"],[0.2222222222222222,\"#7201a8\"],[0.3333333333333333,\"#9c179e\"],[0.4444444444444444,\"#bd3786\"],[0.5555555555555556,\"#d8576b\"],[0.6666666666666666,\"#ed7953\"],[0.7777777777777778,\"#fb9f3a\"],[0.8888888888888888,\"#fdca26\"],[1.0,\"#f0f921\"]],\"type\":\"heatmapgl\"}],\"histogram\":[{\"marker\":{\"pattern\":{\"fillmode\":\"overlay\",\"size\":10,\"solidity\":0.2}},\"type\":\"histogram\"}],\"histogram2d\":[{\"colorbar\":{\"outlinewidth\":0,\"ticks\":\"\"},\"colorscale\":[[0.0,\"#0d0887\"],[0.1111111111111111,\"#46039f\"],[0.2222222222222222,\"#7201a8\"],[0.3333333333333333,\"#9c179e\"],[0.4444444444444444,\"#bd3786\"],[0.5555555555555556,\"#d8576b\"],[0.6666666666666666,\"#ed7953\"],[0.7777777777777778,\"#fb9f3a\"],[0.8888888888888888,\"#fdca26\"],[1.0,\"#f0f921\"]],\"type\":\"histogram2d\"}],\"histogram2dcontour\":[{\"colorbar\":{\"outlinewidth\":0,\"ticks\":\"\"},\"colorscale\":[[0.0,\"#0d0887\"],[0.1111111111111111,\"#46039f\"],[0.2222222222222222,\"#7201a8\"],[0.3333333333333333,\"#9c179e\"],[0.4444444444444444,\"#bd3786\"],[0.5555555555555556,\"#d8576b\"],[0.6666666666666666,\"#ed7953\"],[0.7777777777777778,\"#fb9f3a\"],[0.8888888888888888,\"#fdca26\"],[1.0,\"#f0f921\"]],\"type\":\"histogram2dcontour\"}],\"mesh3d\":[{\"colorbar\":{\"outlinewidth\":0,\"ticks\":\"\"},\"type\":\"mesh3d\"}],\"parcoords\":[{\"line\":{\"colorbar\":{\"outlinewidth\":0,\"ticks\":\"\"}},\"type\":\"parcoords\"}],\"pie\":[{\"automargin\":true,\"type\":\"pie\"}],\"scatter\":[{\"marker\":{\"colorbar\":{\"outlinewidth\":0,\"ticks\":\"\"}},\"type\":\"scatter\"}],\"scatter3d\":[{\"line\":{\"colorbar\":{\"outlinewidth\":0,\"ticks\":\"\"}},\"marker\":{\"colorbar\":{\"outlinewidth\":0,\"ticks\":\"\"}},\"type\":\"scatter3d\"}],\"scattercarpet\":[{\"marker\":{\"colorbar\":{\"outlinewidth\":0,\"ticks\":\"\"}},\"type\":\"scattercarpet\"}],\"scattergeo\":[{\"marker\":{\"colorbar\":{\"outlinewidth\":0,\"ticks\":\"\"}},\"type\":\"scattergeo\"}],\"scattergl\":[{\"marker\":{\"colorbar\":{\"outlinewidth\":0,\"ticks\":\"\"}},\"type\":\"scattergl\"}],\"scattermapbox\":[{\"marker\":{\"colorbar\":{\"outlinewidth\":0,\"ticks\":\"\"}},\"type\":\"scattermapbox\"}],\"scatterpolar\":[{\"marker\":{\"colorbar\":{\"outlinewidth\":0,\"ticks\":\"\"}},\"type\":\"scatterpolar\"}],\"scatterpolargl\":[{\"marker\":{\"colorbar\":{\"outlinewidth\":0,\"ticks\":\"\"}},\"type\":\"scatterpolargl\"}],\"scatterternary\":[{\"marker\":{\"colorbar\":{\"outlinewidth\":0,\"ticks\":\"\"}},\"type\":\"scatterternary\"}],\"surface\":[{\"colorbar\":{\"outlinewidth\":0,\"ticks\":\"\"},\"colorscale\":[[0.0,\"#0d0887\"],[0.1111111111111111,\"#46039f\"],[0.2222222222222222,\"#7201a8\"],[0.3333333333333333,\"#9c179e\"],[0.4444444444444444,\"#bd3786\"],[0.5555555555555556,\"#d8576b\"],[0.6666666666666666,\"#ed7953\"],[0.7777777777777778,\"#fb9f3a\"],[0.8888888888888888,\"#fdca26\"],[1.0,\"#f0f921\"]],\"type\":\"surface\"}],\"table\":[{\"cells\":{\"fill\":{\"color\":\"#EBF0F8\"},\"line\":{\"color\":\"white\"}},\"header\":{\"fill\":{\"color\":\"#C8D4E3\"},\"line\":{\"color\":\"white\"}},\"type\":\"table\"}]},\"layout\":{\"annotationdefaults\":{\"arrowcolor\":\"#2a3f5f\",\"arrowhead\":0,\"arrowwidth\":1},\"autotypenumbers\":\"strict\",\"coloraxis\":{\"colorbar\":{\"outlinewidth\":0,\"ticks\":\"\"}},\"colorscale\":{\"diverging\":[[0,\"#8e0152\"],[0.1,\"#c51b7d\"],[0.2,\"#de77ae\"],[0.3,\"#f1b6da\"],[0.4,\"#fde0ef\"],[0.5,\"#f7f7f7\"],[0.6,\"#e6f5d0\"],[0.7,\"#b8e186\"],[0.8,\"#7fbc41\"],[0.9,\"#4d9221\"],[1,\"#276419\"]],\"sequential\":[[0.0,\"#0d0887\"],[0.1111111111111111,\"#46039f\"],[0.2222222222222222,\"#7201a8\"],[0.3333333333333333,\"#9c179e\"],[0.4444444444444444,\"#bd3786\"],[0.5555555555555556,\"#d8576b\"],[0.6666666666666666,\"#ed7953\"],[0.7777777777777778,\"#fb9f3a\"],[0.8888888888888888,\"#fdca26\"],[1.0,\"#f0f921\"]],\"sequentialminus\":[[0.0,\"#0d0887\"],[0.1111111111111111,\"#46039f\"],[0.2222222222222222,\"#7201a8\"],[0.3333333333333333,\"#9c179e\"],[0.4444444444444444,\"#bd3786\"],[0.5555555555555556,\"#d8576b\"],[0.6666666666666666,\"#ed7953\"],[0.7777777777777778,\"#fb9f3a\"],[0.8888888888888888,\"#fdca26\"],[1.0,\"#f0f921\"]]},\"colorway\":[\"#636efa\",\"#EF553B\",\"#00cc96\",\"#ab63fa\",\"#FFA15A\",\"#19d3f3\",\"#FF6692\",\"#B6E880\",\"#FF97FF\",\"#FECB52\"],\"font\":{\"color\":\"#2a3f5f\"},\"geo\":{\"bgcolor\":\"white\",\"lakecolor\":\"white\",\"landcolor\":\"#E5ECF6\",\"showlakes\":true,\"showland\":true,\"subunitcolor\":\"white\"},\"hoverlabel\":{\"align\":\"left\"},\"hovermode\":\"closest\",\"mapbox\":{\"style\":\"light\"},\"paper_bgcolor\":\"white\",\"plot_bgcolor\":\"#E5ECF6\",\"polar\":{\"angularaxis\":{\"gridcolor\":\"white\",\"linecolor\":\"white\",\"ticks\":\"\"},\"bgcolor\":\"#E5ECF6\",\"radialaxis\":{\"gridcolor\":\"white\",\"linecolor\":\"white\",\"ticks\":\"\"}},\"scene\":{\"xaxis\":{\"backgroundcolor\":\"#E5ECF6\",\"gridcolor\":\"white\",\"gridwidth\":2,\"linecolor\":\"white\",\"showbackground\":true,\"ticks\":\"\",\"zerolinecolor\":\"white\"},\"yaxis\":{\"backgroundcolor\":\"#E5ECF6\",\"gridcolor\":\"white\",\"gridwidth\":2,\"linecolor\":\"white\",\"showbackground\":true,\"ticks\":\"\",\"zerolinecolor\":\"white\"},\"zaxis\":{\"backgroundcolor\":\"#E5ECF6\",\"gridcolor\":\"white\",\"gridwidth\":2,\"linecolor\":\"white\",\"showbackground\":true,\"ticks\":\"\",\"zerolinecolor\":\"white\"}},\"shapedefaults\":{\"line\":{\"color\":\"#2a3f5f\"}},\"ternary\":{\"aaxis\":{\"gridcolor\":\"white\",\"linecolor\":\"white\",\"ticks\":\"\"},\"baxis\":{\"gridcolor\":\"white\",\"linecolor\":\"white\",\"ticks\":\"\"},\"bgcolor\":\"#E5ECF6\",\"caxis\":{\"gridcolor\":\"white\",\"linecolor\":\"white\",\"ticks\":\"\"}},\"title\":{\"x\":0.05},\"xaxis\":{\"automargin\":true,\"gridcolor\":\"white\",\"linecolor\":\"white\",\"ticks\":\"\",\"title\":{\"standoff\":15},\"zerolinecolor\":\"white\",\"zerolinewidth\":2},\"yaxis\":{\"automargin\":true,\"gridcolor\":\"white\",\"linecolor\":\"white\",\"ticks\":\"\",\"title\":{\"standoff\":15},\"zerolinecolor\":\"white\",\"zerolinewidth\":2}}},\"title\":{\"text\":\"<b>Confusion matrix</b>\"},\"xaxis\":{\"dtick\":1,\"gridcolor\":\"rgb(0, 0, 0)\",\"side\":\"top\",\"ticks\":\"\"},\"yaxis\":{\"dtick\":1,\"ticks\":\"\",\"ticksuffix\":\"  \"}},                        {\"responsive\": true}                    ).then(function(){\n",
       "                            \n",
       "var gd = document.getElementById('8947cea6-1fdd-4950-8fd5-57aac0d22c62');\n",
       "var x = new MutationObserver(function (mutations, observer) {{\n",
       "        var display = window.getComputedStyle(gd).display;\n",
       "        if (!display || display === 'none') {{\n",
       "            console.log([gd, 'removed!']);\n",
       "            Plotly.purge(gd);\n",
       "            observer.disconnect();\n",
       "        }}\n",
       "}});\n",
       "\n",
       "// Listen for the removal of the full notebook cells\n",
       "var notebookContainer = gd.closest('#notebook-container');\n",
       "if (notebookContainer) {{\n",
       "    x.observe(notebookContainer, {childList: true});\n",
       "}}\n",
       "\n",
       "// Listen for the clearing of the current output cell\n",
       "var outputEl = gd.closest('.output');\n",
       "if (outputEl) {{\n",
       "    x.observe(outputEl, {childList: true});\n",
       "}}\n",
       "\n",
       "                        })                };                });            </script>        </div>"
      ]
     },
     "metadata": {},
     "output_type": "display_data"
    }
   ],
   "source": [
    "y_preds = (model.predict(X_test) > 0.5).astype(\"int32\")\n",
    "print(classification_report(y_test, y_preds, target_names=target_names))\n",
    "print(\"ROC AUC score : \", round(roc_auc_score(y_test, y_preds), 3))\n",
    "print(\"Average Precision score : \", round(average_precision_score(y_test, y_preds), 3),)\n",
    "conf_matrix(metrics.confusion_matrix(y_test, y_preds))"
   ]
  },
  {
   "cell_type": "markdown",
   "id": "c9160dc9-b70c-4ee3-acce-c2de91eb1c1c",
   "metadata": {},
   "source": [
    "### Conclusions\n",
    "The performances on the dataset are slightly worst than our baseline model :\n",
    "\n",
    "**Lemm + FastText + LSTM**\n",
    "\n",
    "* Average Precision = 0.505 (baseline = 0.65 , -22.3%)\n",
    "* ROC AUC = 0.489 (baseline = 0.66 , -25.91%)"
   ]
  },
  {
   "cell_type": "code",
   "execution_count": null,
   "id": "9861fde9-c3c0-47a3-9349-b3bcc3949cef",
   "metadata": {},
   "outputs": [],
   "source": []
  }
 ],
 "metadata": {
  "kernelspec": {
   "display_name": "yelp",
   "language": "python",
   "name": "yelp"
  },
  "language_info": {
   "codemirror_mode": {
    "name": "ipython",
    "version": 3
   },
   "file_extension": ".py",
   "mimetype": "text/x-python",
   "name": "python",
   "nbconvert_exporter": "python",
   "pygments_lexer": "ipython3",
   "version": "3.9.10"
  }
 },
 "nbformat": 4,
 "nbformat_minor": 5
}
